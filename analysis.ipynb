{
 "cells": [
  {
   "cell_type": "markdown",
   "metadata": {},
   "source": [
    "<img src=\"https://geodecode.com.br/wp-content/uploads/2021/12/brasildatacube.png\" align=\"left\" width=\"74\"/>\n",
    "<img src=\"https://brazil-data-cube.github.io/_images/logo-odc-bdc.png\" align=\"right\" width=\"74\" />\n",
    "\n",
    "<h1 style=\"color:#336699; text-align: center\" >Annual Metting Use Case</h1>\n",
    "<hr style=\"border:2px solid #0077b9;\">\n",
    "\n",
    "<br/>\n",
    "\n",
    "<div style=\"text-align: center;font-size: 90%;\">\n",
    "    <sup>\n",
    "        <a href=\"https://orcid.org/0000-0002-9916-1167\">\n",
    "            <i class=\"fab fa-lg fa-orcid\" style=\"color: #a6ce39\"></i>\n",
    "        </a>\n",
    "    </sup>\n",
    "    <br/>\n",
    "    Brazil Data Cube (BDC), National Institute for Space Research (INPE)\n",
    "    <br/>\n",
    "    <br/>\n",
    "    <br/>\n",
    "    <div style=\"width: 98%;\">\n",
    "        <div style=\"text-align: justify; border-style: solid; border-color: #0077b9; border-width: 1px; padding: 10px;\">\n",
    "            <b>Explantion here....:</b>\n",
    "            <div>\n",
    "                Write write write write writewrite writewrite write. <a href=\"http://www.brazildatacube.org/\" target=\"_blank\">Site site site site site</a>, <i> Outras infos</i> .......\n",
    "            </div>\n",
    "        </div>\n",
    "    </div>\n",
    "</div>"
   ]
  },
  {
   "cell_type": "code",
   "execution_count": 1,
   "metadata": {
    "vscode": {
     "languageId": "r"
    }
   },
   "outputs": [],
   "source": [
    "# from_freatures_to_hrefs_per_months <- function(features, band){\n",
    "#     images <- list()\n",
    "#     for (i in 1:length(features)) {\n",
    "#         feature <- features[[i]]\n",
    "#         # Get month\n",
    "#         date <- feature$properties$datetime\n",
    "#         month <- substr(date, 6, 7)\n",
    "#         # Get href\n",
    "#         # href <- feature['assets.NDVI.href']\n",
    "#         href <- feature$assets[[band]]$href\n",
    "#         # If data list doesn't have hrefs for this month, create this sublist\n",
    "#         if (is.null(images[[month]])) {\n",
    "#             images[[month]] <- list()\n",
    "#         }\n",
    "#         # Set month sublist\n",
    "#         images[[month]] <- c(images[[month]], href)\n",
    "#     }\n",
    "#     return(images)\n",
    "# }"
   ]
  },
  {
   "cell_type": "code",
   "execution_count": 52,
   "metadata": {
    "vscode": {
     "languageId": "r"
    }
   },
   "outputs": [],
   "source": [
    "# library(terra)\n",
    "library(sf)\n",
    "# library(httr)\n",
    "# library(jsonlite)\n",
    "library(raster)\n",
    "library(rstac)\n",
    "# library(geojsonsf)\n",
    "# library(sfheaders)\n",
    "library(sits)\n",
    "library(gdalcubes)\n",
    "library(tmap)\n",
    "library(dplyr)\n",
    "library(ggplot2)"
   ]
  },
  {
   "cell_type": "markdown",
   "metadata": {},
   "source": [
    "# List Harmonize STAC Collections and BDC SITS collections\n",
    "<hr style=\"border:1px solid #0077b9;\">"
   ]
  },
  {
   "cell_type": "code",
   "execution_count": null,
   "metadata": {
    "vscode": {
     "languageId": "r"
    }
   },
   "outputs": [],
   "source": [
    "HARMONIZE_STAC_URL <- 'https://brazildatacube.dpi.inpe.br/harmonize/dev/stac/v1/'\n",
    "\n",
    "stac_data <- GET(paste0(HARMONIZE_STAC_URL, \"/collections\")) %>%\n",
    "  content(., \"text\") %>%\n",
    "  fromJSON(flatten = TRUE)\n",
    "  \n",
    "ids <- stac_data$collections$id %>% sort()\n",
    "ids\n",
    "\n",
    "\n",
    "sits_list_collections(source = \"BDC\")"
   ]
  },
  {
   "cell_type": "markdown",
   "metadata": {},
   "source": [
    "# Constants and ROI\n",
    "<hr style=\"border:1px solid #0077b9;\">"
   ]
  },
  {
   "cell_type": "code",
   "execution_count": 119,
   "metadata": {
    "vscode": {
     "languageId": "r"
    }
   },
   "outputs": [
    {
     "name": "stdout",
     "output_type": "stream",
     "text": [
      "Reading layer `mun_indireto_PA' from data source \n",
      "  `/home/harmonize/git/harmonize/annual_meeting_use_case/roi/mun_indireto_PA.shp' \n",
      "  using driver `ESRI Shapefile'\n",
      "Simple feature collection with 21 features and 5 fields\n",
      "Geometry type: POLYGON\n",
      "Dimension:     XY\n",
      "Bounding box:  xmin: -50.9967 ymin: -5.196937 xmax: -48.13749 ymax: -1.019427\n",
      "Geodetic CRS:  SIRGAS 2000\n"
     ]
    },
    {
     "data": {
      "text/plain": [
       "      xmin       ymin       xmax       ymax \n",
       "-50.996702  -5.196937 -48.137491  -1.019427 "
      ]
     },
     "metadata": {},
     "output_type": "display_data"
    },
    {
     "data": {
      "text/html": [
       "<style>\n",
       ".list-inline {list-style: none; margin:0; padding: 0}\n",
       ".list-inline>li {display: inline-block}\n",
       ".list-inline>li:not(:last-child)::after {content: \"\\00b7\"; padding: 0 .5ex}\n",
       "</style>\n",
       "<ol class=list-inline><li>21</li><li>6</li></ol>\n"
      ],
      "text/latex": [
       "\\begin{enumerate*}\n",
       "\\item 21\n",
       "\\item 6\n",
       "\\end{enumerate*}\n"
      ],
      "text/markdown": [
       "1. 21\n",
       "2. 6\n",
       "\n",
       "\n"
      ],
      "text/plain": [
       "[1] 21  6"
      ]
     },
     "metadata": {},
     "output_type": "display_data"
    },
    {
     "data": {
      "text/html": [
       "<table class=\"dataframe\">\n",
       "<caption>A data.frame: 6 × 6</caption>\n",
       "<thead>\n",
       "\t<tr><th></th><th scope=col>CD_MUN</th><th scope=col>NM_MUN</th><th scope=col>SIGLA</th><th scope=col>AREA_KM2</th><th scope=col>cod</th><th scope=col>geometry</th></tr>\n",
       "\t<tr><th></th><th scope=col>&lt;chr&gt;</th><th scope=col>&lt;chr&gt;</th><th scope=col>&lt;chr&gt;</th><th scope=col>&lt;dbl&gt;</th><th scope=col>&lt;dbl&gt;</th><th scope=col>&lt;POLYGON [°]&gt;</th></tr>\n",
       "</thead>\n",
       "<tbody>\n",
       "\t<tr><th scope=row>1</th><td>1500107</td><td>Abaetetuba</td><td>PA</td><td>1610.654</td><td>NA</td><td>POLYGON ((-48.83139 -1.5635...</td></tr>\n",
       "\t<tr><th scope=row>2</th><td>1500800</td><td>Ananindeua</td><td>PA</td><td> 190.581</td><td>NA</td><td>POLYGON ((-48.33466 -1.2398...</td></tr>\n",
       "\t<tr><th scope=row>3</th><td>1501105</td><td>Bagre     </td><td>PA</td><td>4397.321</td><td>NA</td><td>POLYGON ((-50.29255 -1.8063...</td></tr>\n",
       "\t<tr><th scope=row>4</th><td>1501204</td><td>Baião     </td><td>PA</td><td>3759.834</td><td>NA</td><td>POLYGON ((-49.48643 -2.6631...</td></tr>\n",
       "\t<tr><th scope=row>5</th><td>1501303</td><td>Barcarena </td><td>PA</td><td>1310.338</td><td>NA</td><td>POLYGON ((-48.4695 -1.59545...</td></tr>\n",
       "\t<tr><th scope=row>6</th><td>1501402</td><td>Belém     </td><td>PA</td><td>1059.466</td><td>NA</td><td>POLYGON ((-48.35304 -1.2210...</td></tr>\n",
       "</tbody>\n",
       "</table>\n"
      ],
      "text/latex": [
       "A data.frame: 6 × 6\n",
       "\\begin{tabular}{r|llllll}\n",
       "  & CD\\_MUN & NM\\_MUN & SIGLA & AREA\\_KM2 & cod & geometry\\\\\n",
       "  & <chr> & <chr> & <chr> & <dbl> & <dbl> & <POLYGON {[}°{]}>\\\\\n",
       "\\hline\n",
       "\t1 & 1500107 & Abaetetuba & PA & 1610.654 & NA & POLYGON ((-48.83139 -1.5635...\\\\\n",
       "\t2 & 1500800 & Ananindeua & PA &  190.581 & NA & POLYGON ((-48.33466 -1.2398...\\\\\n",
       "\t3 & 1501105 & Bagre      & PA & 4397.321 & NA & POLYGON ((-50.29255 -1.8063...\\\\\n",
       "\t4 & 1501204 & Baião      & PA & 3759.834 & NA & POLYGON ((-49.48643 -2.6631...\\\\\n",
       "\t5 & 1501303 & Barcarena  & PA & 1310.338 & NA & POLYGON ((-48.4695 -1.59545...\\\\\n",
       "\t6 & 1501402 & Belém      & PA & 1059.466 & NA & POLYGON ((-48.35304 -1.2210...\\\\\n",
       "\\end{tabular}\n"
      ],
      "text/markdown": [
       "\n",
       "A data.frame: 6 × 6\n",
       "\n",
       "| <!--/--> | CD_MUN &lt;chr&gt; | NM_MUN &lt;chr&gt; | SIGLA &lt;chr&gt; | AREA_KM2 &lt;dbl&gt; | cod &lt;dbl&gt; | geometry &lt;POLYGON [°]&gt; |\n",
       "|---|---|---|---|---|---|---|\n",
       "| 1 | 1500107 | Abaetetuba | PA | 1610.654 | NA | POLYGON ((-48.83139 -1.5635... |\n",
       "| 2 | 1500800 | Ananindeua | PA |  190.581 | NA | POLYGON ((-48.33466 -1.2398... |\n",
       "| 3 | 1501105 | Bagre      | PA | 4397.321 | NA | POLYGON ((-50.29255 -1.8063... |\n",
       "| 4 | 1501204 | Baião      | PA | 3759.834 | NA | POLYGON ((-49.48643 -2.6631... |\n",
       "| 5 | 1501303 | Barcarena  | PA | 1310.338 | NA | POLYGON ((-48.4695 -1.59545... |\n",
       "| 6 | 1501402 | Belém      | PA | 1059.466 | NA | POLYGON ((-48.35304 -1.2210... |\n",
       "\n"
      ],
      "text/plain": [
       "  CD_MUN  NM_MUN     SIGLA AREA_KM2 cod geometry                      \n",
       "1 1500107 Abaetetuba PA    1610.654 NA  POLYGON ((-48.83139 -1.5635...\n",
       "2 1500800 Ananindeua PA     190.581 NA  POLYGON ((-48.33466 -1.2398...\n",
       "3 1501105 Bagre      PA    4397.321 NA  POLYGON ((-50.29255 -1.8063...\n",
       "4 1501204 Baião      PA    3759.834 NA  POLYGON ((-49.48643 -2.6631...\n",
       "5 1501303 Barcarena  PA    1310.338 NA  POLYGON ((-48.4695 -1.59545...\n",
       "6 1501402 Belém      PA    1059.466 NA  POLYGON ((-48.35304 -1.2210..."
      ]
     },
     "metadata": {},
     "output_type": "display_data"
    }
   ],
   "source": [
    "# ===================================\n",
    "# FOLDERS PATHS AND PARALLEL SETTINGS\n",
    "ORIGINAL_IMAGES_FOLDER <- \"tifs\"\n",
    "MONTHLY_IMAGES_FOLDER <- \"month\"\n",
    "MOSAIC_IMAGES_FOLDER <- \"mosaic\"\n",
    "MULTICORES <- 3L\n",
    "\n",
    "# ================\n",
    "# SEARCH VARIABLES\n",
    "# START_DATE <- \"2019-07-01\"\n",
    "# END_DATE <- \"2019-08-01\"\n",
    "START_DATE <- \"2019-01-01\"\n",
    "END_DATE <- \"2021-12-31\"\n",
    "COLLECTION <- \"SENTINEL-2-16D\"\n",
    "\n",
    "# =============================\n",
    "# ROI and ROI related variables\n",
    "TEMPERATURE_COLLECTION_ID <- \"max_temper_mean_no_mun_month-1\"\n",
    "DENGUE_COLLECTION_ID <- \"dengue_cases_mun_month_north-1\"\n",
    "\n",
    "shape_st <- st_read(\"roi/mun_indireto_PA.shp\")\n",
    "shape_df <- data.frame(shape_st)\n",
    "bbox <- st_bbox(shape_st)\n",
    "bbox\n",
    "dim(shape_df)\n",
    "head(shape_df)"
   ]
  },
  {
   "cell_type": "markdown",
   "metadata": {},
   "source": [
    "# Obtain NDVI\n",
    "<hr style=\"border:1px solid #0077b9;\">\n",
    "\n",
    "<!-- ![Figure 2](https://raw.githubusercontent.com/e-sensing/sitsbook/master/images/data_cube_generation.png) -->\n"
   ]
  },
  {
   "cell_type": "markdown",
   "metadata": {},
   "source": [
    "### Search STAC and mosaic images of same date"
   ]
  },
  {
   "cell_type": "code",
   "execution_count": 53,
   "metadata": {
    "vscode": {
     "languageId": "r"
    }
   },
   "outputs": [
    {
     "name": "stderr",
     "output_type": "stream",
     "text": [
      "Warning message:\n",
      "“object has no crs, assuming 'EPSG:4326'”\n"
     ]
    },
    {
     "name": "stdout",
     "output_type": "stream",
     "text": [
      "  |======================================================================| 100%\n"
     ]
    },
    {
     "data": {
      "text/html": [
       "<style>\n",
       ".list-inline {list-style: none; margin:0; padding: 0}\n",
       ".list-inline>li {display: inline-block}\n",
       ".list-inline>li:not(:last-child)::after {content: \"\\00b7\"; padding: 0 .5ex}\n",
       "</style>\n",
       "<ol class=list-inline><li><time datetime=\"2019-06-26\">2019-06-26</time></li><li><time datetime=\"2019-07-12\">2019-07-12</time></li><li><time datetime=\"2019-07-28\">2019-07-28</time></li></ol>\n"
      ],
      "text/latex": [
       "\\begin{enumerate*}\n",
       "\\item 2019-06-26\n",
       "\\item 2019-07-12\n",
       "\\item 2019-07-28\n",
       "\\end{enumerate*}\n"
      ],
      "text/markdown": [
       "1. 2019-06-26\n",
       "2. 2019-07-12\n",
       "3. 2019-07-28\n",
       "\n",
       "\n"
      ],
      "text/plain": [
       "[1] \"2019-06-26\" \"2019-07-12\" \"2019-07-28\""
      ]
     },
     "metadata": {},
     "output_type": "display_data"
    },
    {
     "name": "stdout",
     "output_type": "stream",
     "text": [
      "\u001b[90m# A tibble: 6 × 14\u001b[39m\n",
      "  fid       date       band   xres  yres   xmin   ymin   xmax   ymax nrows ncols\n",
      "  \u001b[3m\u001b[90m<chr>\u001b[39m\u001b[23m     \u001b[3m\u001b[90m<date>\u001b[39m\u001b[23m     \u001b[3m\u001b[90m<chr>\u001b[39m\u001b[23m \u001b[3m\u001b[90m<dbl>\u001b[39m\u001b[23m \u001b[3m\u001b[90m<dbl>\u001b[39m\u001b[23m  \u001b[3m\u001b[90m<dbl>\u001b[39m\u001b[23m  \u001b[3m\u001b[90m<dbl>\u001b[39m\u001b[23m  \u001b[3m\u001b[90m<dbl>\u001b[39m\u001b[23m  \u001b[3m\u001b[90m<dbl>\u001b[39m\u001b[23m \u001b[3m\u001b[90m<dbl>\u001b[39m\u001b[23m \u001b[3m\u001b[90m<dbl>\u001b[39m\u001b[23m\n",
      "\u001b[90m1\u001b[39m S2-16D_V… 2019-06-26 CLOUD    10    10 5.26\u001b[90me\u001b[39m6 1.12\u001b[90me\u001b[39m7 5.37\u001b[90me\u001b[39m6 1.13\u001b[90me\u001b[39m7 \u001b[4m1\u001b[24m\u001b[4m0\u001b[24m560 \u001b[4m1\u001b[24m\u001b[4m0\u001b[24m560\n",
      "\u001b[90m2\u001b[39m S2-16D_V… 2019-06-26 NDVI     10    10 5.26\u001b[90me\u001b[39m6 1.12\u001b[90me\u001b[39m7 5.37\u001b[90me\u001b[39m6 1.13\u001b[90me\u001b[39m7 \u001b[4m1\u001b[24m\u001b[4m0\u001b[24m560 \u001b[4m1\u001b[24m\u001b[4m0\u001b[24m560\n",
      "\u001b[90m3\u001b[39m S2-16D_V… 2019-07-12 CLOUD    10    10 5.26\u001b[90me\u001b[39m6 1.12\u001b[90me\u001b[39m7 5.37\u001b[90me\u001b[39m6 1.13\u001b[90me\u001b[39m7 \u001b[4m1\u001b[24m\u001b[4m0\u001b[24m560 \u001b[4m1\u001b[24m\u001b[4m0\u001b[24m560\n",
      "\u001b[90m4\u001b[39m S2-16D_V… 2019-07-12 NDVI     10    10 5.26\u001b[90me\u001b[39m6 1.12\u001b[90me\u001b[39m7 5.37\u001b[90me\u001b[39m6 1.13\u001b[90me\u001b[39m7 \u001b[4m1\u001b[24m\u001b[4m0\u001b[24m560 \u001b[4m1\u001b[24m\u001b[4m0\u001b[24m560\n",
      "\u001b[90m5\u001b[39m S2-16D_V… 2019-07-28 CLOUD    10    10 5.26\u001b[90me\u001b[39m6 1.12\u001b[90me\u001b[39m7 5.37\u001b[90me\u001b[39m6 1.13\u001b[90me\u001b[39m7 \u001b[4m1\u001b[24m\u001b[4m0\u001b[24m560 \u001b[4m1\u001b[24m\u001b[4m0\u001b[24m560\n",
      "\u001b[90m6\u001b[39m S2-16D_V… 2019-07-28 NDVI     10    10 5.26\u001b[90me\u001b[39m6 1.12\u001b[90me\u001b[39m7 5.37\u001b[90me\u001b[39m6 1.13\u001b[90me\u001b[39m7 \u001b[4m1\u001b[24m\u001b[4m0\u001b[24m560 \u001b[4m1\u001b[24m\u001b[4m0\u001b[24m560\n",
      "\u001b[90m# ℹ 3 more variables: crs <chr>, path <chr>, cloud_cover <dbl>\u001b[39m\n"
     ]
    }
   ],
   "source": [
    "# Search images and obtain metadata\n",
    "s2_cube <- sits_cube(\n",
    "      source = \"BDC\",\n",
    "      collection = COLLECTION,\n",
    "      bands = c(\"NDVI\", \"CLOUD\"),\n",
    "      roi = bbox,\n",
    "      start_date = START_DATE,\n",
    "      end_date = END_DATE,\n",
    "      progress = T\n",
    ")\n",
    "sits_timeline(s2_cube)\n",
    "print(s2_cube$file_info[[1]])\n",
    "plot(s2_cube, band = \"NDVI\", time = 1)\n",
    "\n",
    "\n",
    "# Download all images loccaly\n",
    "cube_local <- sits_cube_copy(\n",
    "    cube = s2_cube,\n",
    "    output_dir = ORIGINAL_IMAGES_FOLDER,\n",
    "    # roi = shape,\n",
    "    multicores = MULTICORES\n",
    ")\n",
    "head(t(cube_local))\n",
    "\n",
    "\n",
    "# Aggregate all images of same month\n",
    "s2_regular_cube <- sits_regularize(\n",
    "      cube_local,\n",
    "      res = 60, \n",
    "      output_dir = MONTHLY_IMAGES_FOLDER,\n",
    "      period = \"P1M\",\n",
    "      multicores = MULTICORES\n",
    ")\n",
    "sits_timeline(s2_regular_cube)\n",
    "plot(s2_regular_cube, band = \"NDVI\", time = 1)\n",
    "\n",
    "\n",
    "# Mosaic all images of same date\n",
    "mosaic_cube <- sits_mosaic(\n",
    "    cube = s2_regular_cube,\n",
    "    roi = bbox,\n",
    "    crs = \"EPSG:4326\",\n",
    "    output_dir = MOSAIC_IMAGES_FOLDER,\n",
    "    progress = TRUE\n",
    ")\n",
    "plot(mosaic_cube, band = \"NDVI\", time = 1)"
   ]
  },
  {
   "cell_type": "markdown",
   "metadata": {},
   "source": [
    "### For each mosaic, extract values for each feature of ROI and generate csv"
   ]
  },
  {
   "cell_type": "code",
   "execution_count": 5,
   "metadata": {
    "vscode": {
     "languageId": "r"
    }
   },
   "outputs": [
    {
     "data": {
      "text/html": [
       "'mosaic/SENTINEL-2_MSI_026008_NDVI_2019-06-26.tif'"
      ],
      "text/latex": [
       "'mosaic/SENTINEL-2\\_MSI\\_026008\\_NDVI\\_2019-06-26.tif'"
      ],
      "text/markdown": [
       "'mosaic/SENTINEL-2_MSI_026008_NDVI_2019-06-26.tif'"
      ],
      "text/plain": [
       "[1] \"mosaic/SENTINEL-2_MSI_026008_NDVI_2019-06-26.tif\""
      ]
     },
     "metadata": {},
     "output_type": "display_data"
    }
   ],
   "source": [
    "mosaic_filepaths <- list.files(\"mosaic\", full.names = T)\n",
    "mosaic_filepaths"
   ]
  },
  {
   "cell_type": "code",
   "execution_count": 8,
   "metadata": {
    "vscode": {
     "languageId": "r"
    }
   },
   "outputs": [
    {
     "data": {
      "text/plain": [
       "class      : RasterStack \n",
       "dimensions : 10560, 10560, 111513600, 1  (nrow, ncol, ncell, nlayers)\n",
       "resolution : 10, 10  (x, y)\n",
       "extent     : 5369600, 5475200, 11003200, 11108800  (xmin, xmax, ymin, ymax)\n",
       "crs        : +proj=aea +lat_0=-12 +lon_0=-54 +lat_1=-2 +lat_2=-22 +x_0=5000000 +y_0=10000000 +ellps=GRS80 +units=m +no_defs \n",
       "names      : SENTINEL.2_MSI_026008_NDVI_2019.06.26 \n"
      ]
     },
     "metadata": {},
     "output_type": "display_data"
    },
    {
     "name": "stderr",
     "output_type": "stream",
     "text": [
      "Warning message in .local(x, y, ...):\n",
      "“Transforming SpatialPolygons to the crs of the Raster”\n",
      "Warning message in .getRat(x, ratvalues, ratnames, rattypes):\n",
      "“NAs introduced by coercion”\n"
     ]
    },
    {
     "ename": "",
     "evalue": "",
     "output_type": "error",
     "traceback": [
      "\u001b[1;31mThe Kernel crashed while executing code in the current cell or a previous cell. \n",
      "\u001b[1;31mPlease review the code in the cell(s) to identify a possible cause of the failure. \n",
      "\u001b[1;31mClick <a href='https://aka.ms/vscodeJupyterKernelCrash'>here</a> for more info. \n",
      "\u001b[1;31mView Jupyter <a href='command:jupyter.viewOutput'>log</a> for further details."
     ]
    }
   ],
   "source": [
    "# raster_data <- raster(\"mosaic/SENTINEL-2_MSI_MOSAIC_2019-06-01_2019-06-01_NDVI_v1.tif\")\n",
    "stack_mosaic_filepaths <- stack(mosaic_filepaths)\n",
    "stack_mosaic_filepaths\n",
    "\n",
    "# mosaics <- \n",
    "\n",
    "# shape_df <- shape_st %>%\n",
    "#     as.data.frame() %>%\n",
    "#     dplyr::mutate(ID = as.numeric(row.names(.))) %>%\n",
    "#     select(ID, CD_MUN)\n",
    "\n",
    "# dim(shape_df)\n",
    "# head(shape_df)\n",
    "# print(\"----------------\")\n",
    "\n",
    "extracted_values <- raster::extract(stack_mosaic_filepaths, shape_st, df=T)\n",
    "extracted_values\n",
    "\n",
    "\n",
    "# dim(extracted_values)\n",
    "# head(extracted_values)\n",
    "# print(\"----------------\")\n",
    "\n",
    "# merged <- merge(extracted_values, shape_df, by=\"ID\") %>%\n",
    "#     select(CD_MUN, NDVI)\n",
    "# dim(merged)\n",
    "# head(merged)\n",
    "\n",
    "# unique(merged$CD_MUN)"
   ]
  },
  {
   "cell_type": "markdown",
   "metadata": {},
   "source": [
    "### Mean for municipality"
   ]
  },
  {
   "cell_type": "code",
   "execution_count": null,
   "metadata": {
    "vscode": {
     "languageId": "r"
    }
   },
   "outputs": [],
   "source": [
    "mean_for_municipality <- merged %>%\n",
    "    group_by(CD_MUN) %>%\n",
    "    summarize(\n",
    "        ndvi_mean = mean(NDVI, na.rm=T),\n",
    "    ) %>%\n",
    "    filter(!is.na(ndvi_mean))\n",
    "\n",
    "dim(mean_for_municipality)\n",
    "head(mean_for_municipality)\n"
   ]
  },
  {
   "cell_type": "markdown",
   "metadata": {},
   "source": [
    "# 1. Compute NDVI OLD"
   ]
  },
  {
   "cell_type": "code",
   "execution_count": 6,
   "metadata": {
    "vscode": {
     "languageId": "r"
    }
   },
   "outputs": [
    {
     "data": {
      "text/html": [
       "<dl>\n",
       "\t<dt>$matched</dt>\n",
       "\t\t<dd>12</dd>\n",
       "\t<dt>$returned</dt>\n",
       "\t\t<dd>12</dd>\n",
       "</dl>\n"
      ],
      "text/latex": [
       "\\begin{description}\n",
       "\\item[\\$matched] 12\n",
       "\\item[\\$returned] 12\n",
       "\\end{description}\n"
      ],
      "text/markdown": [
       "$matched\n",
       ":   12\n",
       "$returned\n",
       ":   12\n",
       "\n",
       "\n"
      ],
      "text/plain": [
       "$matched\n",
       "[1] 12\n",
       "\n",
       "$returned\n",
       "[1] 12\n"
      ]
     },
     "metadata": {},
     "output_type": "display_data"
    },
    {
     "name": "stdout",
     "output_type": "stream",
     "text": [
      "[1] \"2019-02-02T00:00:00\"\n",
      "[1] \"2019-02-02T00:00:00\"\n",
      "[1] \"2019-02-02T00:00:00\"\n",
      "[1] \"2019-02-02T00:00:00\"\n",
      "[1] \"2019-01-17T00:00:00\"\n",
      "[1] \"2019-01-17T00:00:00\"\n",
      "[1] \"2019-01-17T00:00:00\"\n",
      "[1] \"2019-01-17T00:00:00\"\n",
      "[1] \"2019-01-01T00:00:00\"\n",
      "[1] \"2019-01-01T00:00:00\"\n",
      "[1] \"2019-01-01T00:00:00\"\n",
      "[1] \"2019-01-01T00:00:00\"\n"
     ]
    }
   ],
   "source": [
    "collection_id <- \"S2-16D-2\"\n",
    "\n",
    "ndvi_search <- stac(BDC_STAC_URL) %>%\n",
    "  stac_search(\n",
    "    collections = collection_id, \n",
    "    datetime = paste(start_date, end_date, sep='/'),\n",
    "    bbox = bbox,\n",
    "    limit = 30\n",
    "  ) %>% \n",
    "  get_request()\n",
    "\n",
    "ndvi_search$context\n",
    "\n",
    "ndvi_features <- ndvi_search$features\n",
    "for (i in 1:length(ndvi_features)){\n",
    "  print(ndvi_features[[i]]$properties$datetime)\n",
    "}"
   ]
  },
  {
   "cell_type": "markdown",
   "metadata": {},
   "source": [
    "# 2. Obtain Temperature Data\n",
    "<hr style=\"border:1px solid #0077b9;\">"
   ]
  },
  {
   "cell_type": "markdown",
   "metadata": {},
   "source": [
    "### Search Temperature data on Harmonize STAC"
   ]
  },
  {
   "cell_type": "code",
   "execution_count": 121,
   "metadata": {
    "vscode": {
     "languageId": "r"
    }
   },
   "outputs": [
    {
     "data": {
      "text/html": [
       "<dl>\n",
       "\t<dt>$matched</dt>\n",
       "\t\t<dd>36</dd>\n",
       "\t<dt>$returned</dt>\n",
       "\t\t<dd>36</dd>\n",
       "</dl>\n"
      ],
      "text/latex": [
       "\\begin{description}\n",
       "\\item[\\$matched] 36\n",
       "\\item[\\$returned] 36\n",
       "\\end{description}\n"
      ],
      "text/markdown": [
       "$matched\n",
       ":   36\n",
       "$returned\n",
       ":   36\n",
       "\n",
       "\n"
      ],
      "text/plain": [
       "$matched\n",
       "[1] 36\n",
       "\n",
       "$returned\n",
       "[1] 36\n"
      ]
     },
     "metadata": {},
     "output_type": "display_data"
    }
   ],
   "source": [
    "temperature_search <- stac(HARMONIZE_STAC_URL) %>%\n",
    "  stac_search(\n",
    "    collections = TEMPERATURE_COLLECTION_ID,\n",
    "    datetime = paste(START_DATE, END_DATE, sep='/'),\n",
    "    limit = 50\n",
    "  ) %>%\n",
    "  get_request()\n",
    "\n",
    "temperature_search$context"
   ]
  },
  {
   "cell_type": "markdown",
   "metadata": {},
   "source": [
    "### For each feature, get geojson as dataframe"
   ]
  },
  {
   "cell_type": "code",
   "execution_count": 123,
   "metadata": {
    "vscode": {
     "languageId": "r"
    }
   },
   "outputs": [
    {
     "name": "stdout",
     "output_type": "stream",
     "text": [
      "Reading layer `max_temper_mean_NO_mun_month_20211201' from data source \n",
      "  `https://brazildatacube.dpi.inpe.br/harmonize/dev/data/climate_indicators/temperature_era5land/max_temper_mean_no_mun_month/shapefiles/2021-12-01/max_temper_mean_no_mun_month_20211201.geojson' \n",
      "  using driver `GeoJSON'\n",
      "Simple feature collection with 21 features and 6 fields\n",
      "Geometry type: POLYGON\n",
      "Dimension:     XY\n",
      "Bounding box:  xmin: -50.9967 ymin: -5.196937 xmax: -48.13749 ymax: -1.019427\n",
      "Geodetic CRS:  WGS 84\n",
      "Reading layer `max_temper_mean_NO_mun_month_20211101' from data source \n",
      "  `https://brazildatacube.dpi.inpe.br/harmonize/dev/data/climate_indicators/temperature_era5land/max_temper_mean_no_mun_month/shapefiles/2021-11-01/max_temper_mean_no_mun_month_20211101.geojson' \n",
      "  using driver `GeoJSON'\n",
      "Simple feature collection with 21 features and 6 fields\n",
      "Geometry type: POLYGON\n",
      "Dimension:     XY\n",
      "Bounding box:  xmin: -50.9967 ymin: -5.196937 xmax: -48.13749 ymax: -1.019427\n",
      "Geodetic CRS:  WGS 84\n",
      "Reading layer `max_temper_mean_NO_mun_month_20211001' from data source \n",
      "  `https://brazildatacube.dpi.inpe.br/harmonize/dev/data/climate_indicators/temperature_era5land/max_temper_mean_no_mun_month/shapefiles/2021-10-01/max_temper_mean_no_mun_month_20211001.geojson' \n",
      "  using driver `GeoJSON'\n",
      "Simple feature collection with 21 features and 6 fields\n",
      "Geometry type: POLYGON\n",
      "Dimension:     XY\n",
      "Bounding box:  xmin: -50.9967 ymin: -5.196937 xmax: -48.13749 ymax: -1.019427\n",
      "Geodetic CRS:  WGS 84\n",
      "Reading layer `max_temper_mean_NO_mun_month_20210901' from data source \n",
      "  `https://brazildatacube.dpi.inpe.br/harmonize/dev/data/climate_indicators/temperature_era5land/max_temper_mean_no_mun_month/shapefiles/2021-09-01/max_temper_mean_no_mun_month_20210901.geojson' \n",
      "  using driver `GeoJSON'\n",
      "Simple feature collection with 21 features and 6 fields\n",
      "Geometry type: POLYGON\n",
      "Dimension:     XY\n",
      "Bounding box:  xmin: -50.9967 ymin: -5.196937 xmax: -48.13749 ymax: -1.019427\n",
      "Geodetic CRS:  WGS 84\n",
      "Reading layer `max_temper_mean_NO_mun_month_20210801' from data source \n",
      "  `https://brazildatacube.dpi.inpe.br/harmonize/dev/data/climate_indicators/temperature_era5land/max_temper_mean_no_mun_month/shapefiles/2021-08-01/max_temper_mean_no_mun_month_20210801.geojson' \n",
      "  using driver `GeoJSON'\n",
      "Simple feature collection with 21 features and 6 fields\n",
      "Geometry type: POLYGON\n",
      "Dimension:     XY\n",
      "Bounding box:  xmin: -50.9967 ymin: -5.196937 xmax: -48.13749 ymax: -1.019427\n",
      "Geodetic CRS:  WGS 84\n",
      "Reading layer `max_temper_mean_NO_mun_month_20210701' from data source \n",
      "  `https://brazildatacube.dpi.inpe.br/harmonize/dev/data/climate_indicators/temperature_era5land/max_temper_mean_no_mun_month/shapefiles/2021-07-01/max_temper_mean_no_mun_month_20210701.geojson' \n",
      "  using driver `GeoJSON'\n",
      "Simple feature collection with 21 features and 6 fields\n",
      "Geometry type: POLYGON\n",
      "Dimension:     XY\n",
      "Bounding box:  xmin: -50.9967 ymin: -5.196937 xmax: -48.13749 ymax: -1.019427\n",
      "Geodetic CRS:  WGS 84\n",
      "Reading layer `max_temper_mean_NO_mun_month_20210601' from data source \n",
      "  `https://brazildatacube.dpi.inpe.br/harmonize/dev/data/climate_indicators/temperature_era5land/max_temper_mean_no_mun_month/shapefiles/2021-06-01/max_temper_mean_no_mun_month_20210601.geojson' \n",
      "  using driver `GeoJSON'\n",
      "Simple feature collection with 21 features and 6 fields\n",
      "Geometry type: POLYGON\n",
      "Dimension:     XY\n",
      "Bounding box:  xmin: -50.9967 ymin: -5.196937 xmax: -48.13749 ymax: -1.019427\n",
      "Geodetic CRS:  WGS 84\n",
      "Reading layer `max_temper_mean_NO_mun_month_20210501' from data source \n",
      "  `https://brazildatacube.dpi.inpe.br/harmonize/dev/data/climate_indicators/temperature_era5land/max_temper_mean_no_mun_month/shapefiles/2021-05-01/max_temper_mean_no_mun_month_20210501.geojson' \n",
      "  using driver `GeoJSON'\n",
      "Simple feature collection with 21 features and 6 fields\n",
      "Geometry type: POLYGON\n",
      "Dimension:     XY\n",
      "Bounding box:  xmin: -50.9967 ymin: -5.196937 xmax: -48.13749 ymax: -1.019427\n",
      "Geodetic CRS:  WGS 84\n",
      "Reading layer `max_temper_mean_NO_mun_month_20210401' from data source \n",
      "  `https://brazildatacube.dpi.inpe.br/harmonize/dev/data/climate_indicators/temperature_era5land/max_temper_mean_no_mun_month/shapefiles/2021-04-01/max_temper_mean_no_mun_month_20210401.geojson' \n",
      "  using driver `GeoJSON'\n",
      "Simple feature collection with 21 features and 6 fields\n",
      "Geometry type: POLYGON\n",
      "Dimension:     XY\n",
      "Bounding box:  xmin: -50.9967 ymin: -5.196937 xmax: -48.13749 ymax: -1.019427\n",
      "Geodetic CRS:  WGS 84\n",
      "Reading layer `max_temper_mean_NO_mun_month_20210301' from data source \n",
      "  `https://brazildatacube.dpi.inpe.br/harmonize/dev/data/climate_indicators/temperature_era5land/max_temper_mean_no_mun_month/shapefiles/2021-03-01/max_temper_mean_no_mun_month_20210301.geojson' \n",
      "  using driver `GeoJSON'\n",
      "Simple feature collection with 21 features and 6 fields\n",
      "Geometry type: POLYGON\n",
      "Dimension:     XY\n",
      "Bounding box:  xmin: -50.9967 ymin: -5.196937 xmax: -48.13749 ymax: -1.019427\n",
      "Geodetic CRS:  WGS 84\n",
      "Reading layer `max_temper_mean_NO_mun_month_20210201' from data source \n",
      "  `https://brazildatacube.dpi.inpe.br/harmonize/dev/data/climate_indicators/temperature_era5land/max_temper_mean_no_mun_month/shapefiles/2021-02-01/max_temper_mean_no_mun_month_20210201.geojson' \n",
      "  using driver `GeoJSON'\n",
      "Simple feature collection with 21 features and 6 fields\n",
      "Geometry type: POLYGON\n",
      "Dimension:     XY\n",
      "Bounding box:  xmin: -50.9967 ymin: -5.196937 xmax: -48.13749 ymax: -1.019427\n",
      "Geodetic CRS:  WGS 84\n",
      "Reading layer `max_temper_mean_NO_mun_month_20210101' from data source \n",
      "  `https://brazildatacube.dpi.inpe.br/harmonize/dev/data/climate_indicators/temperature_era5land/max_temper_mean_no_mun_month/shapefiles/2021-01-01/max_temper_mean_no_mun_month_20210101.geojson' \n",
      "  using driver `GeoJSON'\n",
      "Simple feature collection with 21 features and 6 fields\n",
      "Geometry type: POLYGON\n",
      "Dimension:     XY\n",
      "Bounding box:  xmin: -50.9967 ymin: -5.196937 xmax: -48.13749 ymax: -1.019427\n",
      "Geodetic CRS:  WGS 84\n",
      "Reading layer `max_temper_mean_NO_mun_month_20201201' from data source \n",
      "  `https://brazildatacube.dpi.inpe.br/harmonize/dev/data/climate_indicators/temperature_era5land/max_temper_mean_no_mun_month/shapefiles/2020-12-01/max_temper_mean_no_mun_month_20201201.geojson' \n",
      "  using driver `GeoJSON'\n",
      "Simple feature collection with 21 features and 6 fields\n",
      "Geometry type: POLYGON\n",
      "Dimension:     XY\n",
      "Bounding box:  xmin: -50.9967 ymin: -5.196937 xmax: -48.13749 ymax: -1.019427\n",
      "Geodetic CRS:  WGS 84\n",
      "Reading layer `max_temper_mean_NO_mun_month_20201101' from data source \n",
      "  `https://brazildatacube.dpi.inpe.br/harmonize/dev/data/climate_indicators/temperature_era5land/max_temper_mean_no_mun_month/shapefiles/2020-11-01/max_temper_mean_no_mun_month_20201101.geojson' \n",
      "  using driver `GeoJSON'\n",
      "Simple feature collection with 21 features and 6 fields\n",
      "Geometry type: POLYGON\n",
      "Dimension:     XY\n",
      "Bounding box:  xmin: -50.9967 ymin: -5.196937 xmax: -48.13749 ymax: -1.019427\n",
      "Geodetic CRS:  WGS 84\n",
      "Reading layer `max_temper_mean_NO_mun_month_20201001' from data source \n",
      "  `https://brazildatacube.dpi.inpe.br/harmonize/dev/data/climate_indicators/temperature_era5land/max_temper_mean_no_mun_month/shapefiles/2020-10-01/max_temper_mean_no_mun_month_20201001.geojson' \n",
      "  using driver `GeoJSON'\n",
      "Simple feature collection with 21 features and 6 fields\n",
      "Geometry type: POLYGON\n",
      "Dimension:     XY\n",
      "Bounding box:  xmin: -50.9967 ymin: -5.196937 xmax: -48.13749 ymax: -1.019427\n",
      "Geodetic CRS:  WGS 84\n",
      "Reading layer `max_temper_mean_NO_mun_month_20200901' from data source \n",
      "  `https://brazildatacube.dpi.inpe.br/harmonize/dev/data/climate_indicators/temperature_era5land/max_temper_mean_no_mun_month/shapefiles/2020-09-01/max_temper_mean_no_mun_month_20200901.geojson' \n",
      "  using driver `GeoJSON'\n",
      "Simple feature collection with 21 features and 6 fields\n",
      "Geometry type: POLYGON\n",
      "Dimension:     XY\n",
      "Bounding box:  xmin: -50.9967 ymin: -5.196937 xmax: -48.13749 ymax: -1.019427\n",
      "Geodetic CRS:  WGS 84\n",
      "Reading layer `max_temper_mean_NO_mun_month_20200801' from data source \n",
      "  `https://brazildatacube.dpi.inpe.br/harmonize/dev/data/climate_indicators/temperature_era5land/max_temper_mean_no_mun_month/shapefiles/2020-08-01/max_temper_mean_no_mun_month_20200801.geojson' \n",
      "  using driver `GeoJSON'\n",
      "Simple feature collection with 21 features and 6 fields\n",
      "Geometry type: POLYGON\n",
      "Dimension:     XY\n",
      "Bounding box:  xmin: -50.9967 ymin: -5.196937 xmax: -48.13749 ymax: -1.019427\n",
      "Geodetic CRS:  WGS 84\n",
      "Reading layer `max_temper_mean_NO_mun_month_20200701' from data source \n",
      "  `https://brazildatacube.dpi.inpe.br/harmonize/dev/data/climate_indicators/temperature_era5land/max_temper_mean_no_mun_month/shapefiles/2020-07-01/max_temper_mean_no_mun_month_20200701.geojson' \n",
      "  using driver `GeoJSON'\n",
      "Simple feature collection with 21 features and 6 fields\n",
      "Geometry type: POLYGON\n",
      "Dimension:     XY\n",
      "Bounding box:  xmin: -50.9967 ymin: -5.196937 xmax: -48.13749 ymax: -1.019427\n",
      "Geodetic CRS:  WGS 84\n",
      "Reading layer `max_temper_mean_NO_mun_month_20200601' from data source \n",
      "  `https://brazildatacube.dpi.inpe.br/harmonize/dev/data/climate_indicators/temperature_era5land/max_temper_mean_no_mun_month/shapefiles/2020-06-01/max_temper_mean_no_mun_month_20200601.geojson' \n",
      "  using driver `GeoJSON'\n",
      "Simple feature collection with 21 features and 6 fields\n",
      "Geometry type: POLYGON\n",
      "Dimension:     XY\n",
      "Bounding box:  xmin: -50.9967 ymin: -5.196937 xmax: -48.13749 ymax: -1.019427\n",
      "Geodetic CRS:  WGS 84\n",
      "Reading layer `max_temper_mean_NO_mun_month_20200501' from data source \n",
      "  `https://brazildatacube.dpi.inpe.br/harmonize/dev/data/climate_indicators/temperature_era5land/max_temper_mean_no_mun_month/shapefiles/2020-05-01/max_temper_mean_no_mun_month_20200501.geojson' \n",
      "  using driver `GeoJSON'\n",
      "Simple feature collection with 21 features and 6 fields\n",
      "Geometry type: POLYGON\n",
      "Dimension:     XY\n",
      "Bounding box:  xmin: -50.9967 ymin: -5.196937 xmax: -48.13749 ymax: -1.019427\n",
      "Geodetic CRS:  WGS 84\n",
      "Reading layer `max_temper_mean_NO_mun_month_20200401' from data source \n",
      "  `https://brazildatacube.dpi.inpe.br/harmonize/dev/data/climate_indicators/temperature_era5land/max_temper_mean_no_mun_month/shapefiles/2020-04-01/max_temper_mean_no_mun_month_20200401.geojson' \n",
      "  using driver `GeoJSON'\n",
      "Simple feature collection with 21 features and 6 fields\n",
      "Geometry type: POLYGON\n",
      "Dimension:     XY\n",
      "Bounding box:  xmin: -50.9967 ymin: -5.196937 xmax: -48.13749 ymax: -1.019427\n",
      "Geodetic CRS:  WGS 84\n",
      "Reading layer `max_temper_mean_NO_mun_month_20200301' from data source \n",
      "  `https://brazildatacube.dpi.inpe.br/harmonize/dev/data/climate_indicators/temperature_era5land/max_temper_mean_no_mun_month/shapefiles/2020-03-01/max_temper_mean_no_mun_month_20200301.geojson' \n",
      "  using driver `GeoJSON'\n",
      "Simple feature collection with 21 features and 6 fields\n",
      "Geometry type: POLYGON\n",
      "Dimension:     XY\n",
      "Bounding box:  xmin: -50.9967 ymin: -5.196937 xmax: -48.13749 ymax: -1.019427\n",
      "Geodetic CRS:  WGS 84\n",
      "Reading layer `max_temper_mean_NO_mun_month_20200201' from data source \n",
      "  `https://brazildatacube.dpi.inpe.br/harmonize/dev/data/climate_indicators/temperature_era5land/max_temper_mean_no_mun_month/shapefiles/2020-02-01/max_temper_mean_no_mun_month_20200201.geojson' \n",
      "  using driver `GeoJSON'\n",
      "Simple feature collection with 21 features and 6 fields\n",
      "Geometry type: POLYGON\n",
      "Dimension:     XY\n",
      "Bounding box:  xmin: -50.9967 ymin: -5.196937 xmax: -48.13749 ymax: -1.019427\n",
      "Geodetic CRS:  WGS 84\n",
      "Reading layer `max_temper_mean_NO_mun_month_20200101' from data source \n",
      "  `https://brazildatacube.dpi.inpe.br/harmonize/dev/data/climate_indicators/temperature_era5land/max_temper_mean_no_mun_month/shapefiles/2020-01-01/max_temper_mean_no_mun_month_20200101.geojson' \n",
      "  using driver `GeoJSON'\n",
      "Simple feature collection with 21 features and 6 fields\n",
      "Geometry type: POLYGON\n",
      "Dimension:     XY\n",
      "Bounding box:  xmin: -50.9967 ymin: -5.196937 xmax: -48.13749 ymax: -1.019427\n",
      "Geodetic CRS:  WGS 84\n",
      "Reading layer `max_temper_mean_NO_mun_month_20191201' from data source \n",
      "  `https://brazildatacube.dpi.inpe.br/harmonize/dev/data/climate_indicators/temperature_era5land/max_temper_mean_no_mun_month/shapefiles/2019-12-01/max_temper_mean_no_mun_month_20191201.geojson' \n",
      "  using driver `GeoJSON'\n",
      "Simple feature collection with 21 features and 6 fields\n",
      "Geometry type: POLYGON\n",
      "Dimension:     XY\n",
      "Bounding box:  xmin: -50.9967 ymin: -5.196937 xmax: -48.13749 ymax: -1.019427\n",
      "Geodetic CRS:  WGS 84\n",
      "Reading layer `max_temper_mean_NO_mun_month_20191101' from data source \n",
      "  `https://brazildatacube.dpi.inpe.br/harmonize/dev/data/climate_indicators/temperature_era5land/max_temper_mean_no_mun_month/shapefiles/2019-11-01/max_temper_mean_no_mun_month_20191101.geojson' \n",
      "  using driver `GeoJSON'\n",
      "Simple feature collection with 21 features and 6 fields\n",
      "Geometry type: POLYGON\n",
      "Dimension:     XY\n",
      "Bounding box:  xmin: -50.9967 ymin: -5.196937 xmax: -48.13749 ymax: -1.019427\n",
      "Geodetic CRS:  WGS 84\n",
      "Reading layer `max_temper_mean_NO_mun_month_20191001' from data source \n",
      "  `https://brazildatacube.dpi.inpe.br/harmonize/dev/data/climate_indicators/temperature_era5land/max_temper_mean_no_mun_month/shapefiles/2019-10-01/max_temper_mean_no_mun_month_20191001.geojson' \n",
      "  using driver `GeoJSON'\n",
      "Simple feature collection with 21 features and 6 fields\n",
      "Geometry type: POLYGON\n",
      "Dimension:     XY\n",
      "Bounding box:  xmin: -50.9967 ymin: -5.196937 xmax: -48.13749 ymax: -1.019427\n",
      "Geodetic CRS:  WGS 84\n",
      "Reading layer `max_temper_mean_NO_mun_month_20190901' from data source \n",
      "  `https://brazildatacube.dpi.inpe.br/harmonize/dev/data/climate_indicators/temperature_era5land/max_temper_mean_no_mun_month/shapefiles/2019-09-01/max_temper_mean_no_mun_month_20190901.geojson' \n",
      "  using driver `GeoJSON'\n",
      "Simple feature collection with 21 features and 6 fields\n",
      "Geometry type: POLYGON\n",
      "Dimension:     XY\n",
      "Bounding box:  xmin: -50.9967 ymin: -5.196937 xmax: -48.13749 ymax: -1.019427\n",
      "Geodetic CRS:  WGS 84\n",
      "Reading layer `max_temper_mean_NO_mun_month_20190801' from data source \n",
      "  `https://brazildatacube.dpi.inpe.br/harmonize/dev/data/climate_indicators/temperature_era5land/max_temper_mean_no_mun_month/shapefiles/2019-08-01/max_temper_mean_no_mun_month_20190801.geojson' \n",
      "  using driver `GeoJSON'\n",
      "Simple feature collection with 21 features and 6 fields\n",
      "Geometry type: POLYGON\n",
      "Dimension:     XY\n",
      "Bounding box:  xmin: -50.9967 ymin: -5.196937 xmax: -48.13749 ymax: -1.019427\n",
      "Geodetic CRS:  WGS 84\n",
      "Reading layer `max_temper_mean_NO_mun_month_20190701' from data source \n",
      "  `https://brazildatacube.dpi.inpe.br/harmonize/dev/data/climate_indicators/temperature_era5land/max_temper_mean_no_mun_month/shapefiles/2019-07-01/max_temper_mean_no_mun_month_20190701.geojson' \n",
      "  using driver `GeoJSON'\n",
      "Simple feature collection with 21 features and 6 fields\n",
      "Geometry type: POLYGON\n",
      "Dimension:     XY\n",
      "Bounding box:  xmin: -50.9967 ymin: -5.196937 xmax: -48.13749 ymax: -1.019427\n",
      "Geodetic CRS:  WGS 84\n",
      "Reading layer `max_temper_mean_NO_mun_month_20190601' from data source \n",
      "  `https://brazildatacube.dpi.inpe.br/harmonize/dev/data/climate_indicators/temperature_era5land/max_temper_mean_no_mun_month/shapefiles/2019-06-01/max_temper_mean_no_mun_month_20190601.geojson' \n",
      "  using driver `GeoJSON'\n",
      "Simple feature collection with 21 features and 6 fields\n",
      "Geometry type: POLYGON\n",
      "Dimension:     XY\n",
      "Bounding box:  xmin: -50.9967 ymin: -5.196937 xmax: -48.13749 ymax: -1.019427\n",
      "Geodetic CRS:  WGS 84\n",
      "Reading layer `max_temper_mean_NO_mun_month_20190501' from data source \n",
      "  `https://brazildatacube.dpi.inpe.br/harmonize/dev/data/climate_indicators/temperature_era5land/max_temper_mean_no_mun_month/shapefiles/2019-05-01/max_temper_mean_no_mun_month_20190501.geojson' \n",
      "  using driver `GeoJSON'\n",
      "Simple feature collection with 21 features and 6 fields\n",
      "Geometry type: POLYGON\n",
      "Dimension:     XY\n",
      "Bounding box:  xmin: -50.9967 ymin: -5.196937 xmax: -48.13749 ymax: -1.019427\n",
      "Geodetic CRS:  WGS 84\n",
      "Reading layer `max_temper_mean_NO_mun_month_20190401' from data source \n",
      "  `https://brazildatacube.dpi.inpe.br/harmonize/dev/data/climate_indicators/temperature_era5land/max_temper_mean_no_mun_month/shapefiles/2019-04-01/max_temper_mean_no_mun_month_20190401.geojson' \n",
      "  using driver `GeoJSON'\n",
      "Simple feature collection with 21 features and 6 fields\n",
      "Geometry type: POLYGON\n",
      "Dimension:     XY\n",
      "Bounding box:  xmin: -50.9967 ymin: -5.196937 xmax: -48.13749 ymax: -1.019427\n",
      "Geodetic CRS:  WGS 84\n",
      "Reading layer `max_temper_mean_NO_mun_month_20190301' from data source \n",
      "  `https://brazildatacube.dpi.inpe.br/harmonize/dev/data/climate_indicators/temperature_era5land/max_temper_mean_no_mun_month/shapefiles/2019-03-01/max_temper_mean_no_mun_month_20190301.geojson' \n",
      "  using driver `GeoJSON'\n",
      "Simple feature collection with 21 features and 6 fields\n",
      "Geometry type: POLYGON\n",
      "Dimension:     XY\n",
      "Bounding box:  xmin: -50.9967 ymin: -5.196937 xmax: -48.13749 ymax: -1.019427\n",
      "Geodetic CRS:  WGS 84\n",
      "Reading layer `max_temper_mean_NO_mun_month_20190201' from data source \n",
      "  `https://brazildatacube.dpi.inpe.br/harmonize/dev/data/climate_indicators/temperature_era5land/max_temper_mean_no_mun_month/shapefiles/2019-02-01/max_temper_mean_no_mun_month_20190201.geojson' \n",
      "  using driver `GeoJSON'\n",
      "Simple feature collection with 21 features and 6 fields\n",
      "Geometry type: POLYGON\n",
      "Dimension:     XY\n",
      "Bounding box:  xmin: -50.9967 ymin: -5.196937 xmax: -48.13749 ymax: -1.019427\n",
      "Geodetic CRS:  WGS 84\n",
      "Reading layer `max_temper_mean_NO_mun_month_20190101' from data source \n",
      "  `https://brazildatacube.dpi.inpe.br/harmonize/dev/data/climate_indicators/temperature_era5land/max_temper_mean_no_mun_month/shapefiles/2019-01-01/max_temper_mean_no_mun_month_20190101.geojson' \n",
      "  using driver `GeoJSON'\n",
      "Simple feature collection with 21 features and 6 fields\n",
      "Geometry type: POLYGON\n",
      "Dimension:     XY\n",
      "Bounding box:  xmin: -50.9967 ymin: -5.196937 xmax: -48.13749 ymax: -1.019427\n",
      "Geodetic CRS:  WGS 84\n"
     ]
    }
   ],
   "source": [
    "temperature_features <- temperature_search$features\n",
    "\n",
    "temperature_dfs <- list()\n",
    "for (i in 1:length(temperature_features)){\n",
    "    feature <- temperature_features[[i]]\n",
    "    datetime <- feature$properties$datetime\n",
    "    geojson_href <- feature$assets$geojson$href\n",
    "\n",
    "    df <- as.data.frame(st_read(geojson_href)) %>%\n",
    "        dplyr::select(CD_MUN, NM_MUN, SIGLA, value) %>%\n",
    "        rename(cd_mun = CD_MUN, nm_mun = NM_MUN, UF = SIGLA, temperature = value) %>%\n",
    "        mutate(year_month = format(as.Date(datetime), \"%Y-%m\"))\n",
    "\n",
    "    temperature_dfs[[i]] <- df\n",
    "}\n",
    "# temperature_dfs"
   ]
  },
  {
   "cell_type": "markdown",
   "metadata": {},
   "source": [
    "### rbind all dataframes"
   ]
  },
  {
   "cell_type": "code",
   "execution_count": 124,
   "metadata": {
    "vscode": {
     "languageId": "r"
    }
   },
   "outputs": [
    {
     "data": {
      "text/plain": [
       "NULL"
      ]
     },
     "metadata": {},
     "output_type": "display_data"
    },
    {
     "data": {
      "text/html": [
       "<style>\n",
       ".list-inline {list-style: none; margin:0; padding: 0}\n",
       ".list-inline>li {display: inline-block}\n",
       ".list-inline>li:not(:last-child)::after {content: \"\\00b7\"; padding: 0 .5ex}\n",
       "</style>\n",
       "<ol class=list-inline><li>756</li><li>5</li></ol>\n"
      ],
      "text/latex": [
       "\\begin{enumerate*}\n",
       "\\item 756\n",
       "\\item 5\n",
       "\\end{enumerate*}\n"
      ],
      "text/markdown": [
       "1. 756\n",
       "2. 5\n",
       "\n",
       "\n"
      ],
      "text/plain": [
       "[1] 756   5"
      ]
     },
     "metadata": {},
     "output_type": "display_data"
    },
    {
     "data": {
      "text/html": [
       "<table class=\"dataframe\">\n",
       "<caption>A data.frame: 6 × 5</caption>\n",
       "<thead>\n",
       "\t<tr><th></th><th scope=col>cd_mun</th><th scope=col>nm_mun</th><th scope=col>UF</th><th scope=col>temperature</th><th scope=col>year_month</th></tr>\n",
       "\t<tr><th></th><th scope=col>&lt;chr&gt;</th><th scope=col>&lt;chr&gt;</th><th scope=col>&lt;chr&gt;</th><th scope=col>&lt;dbl&gt;</th><th scope=col>&lt;chr&gt;</th></tr>\n",
       "</thead>\n",
       "<tbody>\n",
       "\t<tr><th scope=row>1</th><td>1500107</td><td>Abaetetuba</td><td>PA</td><td>32.29361</td><td>2021-12</td></tr>\n",
       "\t<tr><th scope=row>2</th><td>1500800</td><td>Ananindeua</td><td>PA</td><td>32.45644</td><td>2021-12</td></tr>\n",
       "\t<tr><th scope=row>3</th><td>1501105</td><td>Bagre     </td><td>PA</td><td>32.98824</td><td>2021-12</td></tr>\n",
       "\t<tr><th scope=row>4</th><td>1501204</td><td>Baião     </td><td>PA</td><td>32.64342</td><td>2021-12</td></tr>\n",
       "\t<tr><th scope=row>5</th><td>1501303</td><td>Barcarena </td><td>PA</td><td>32.06986</td><td>2021-12</td></tr>\n",
       "\t<tr><th scope=row>6</th><td>1501402</td><td>Belém     </td><td>PA</td><td>32.09974</td><td>2021-12</td></tr>\n",
       "</tbody>\n",
       "</table>\n"
      ],
      "text/latex": [
       "A data.frame: 6 × 5\n",
       "\\begin{tabular}{r|lllll}\n",
       "  & cd\\_mun & nm\\_mun & UF & temperature & year\\_month\\\\\n",
       "  & <chr> & <chr> & <chr> & <dbl> & <chr>\\\\\n",
       "\\hline\n",
       "\t1 & 1500107 & Abaetetuba & PA & 32.29361 & 2021-12\\\\\n",
       "\t2 & 1500800 & Ananindeua & PA & 32.45644 & 2021-12\\\\\n",
       "\t3 & 1501105 & Bagre      & PA & 32.98824 & 2021-12\\\\\n",
       "\t4 & 1501204 & Baião      & PA & 32.64342 & 2021-12\\\\\n",
       "\t5 & 1501303 & Barcarena  & PA & 32.06986 & 2021-12\\\\\n",
       "\t6 & 1501402 & Belém      & PA & 32.09974 & 2021-12\\\\\n",
       "\\end{tabular}\n"
      ],
      "text/markdown": [
       "\n",
       "A data.frame: 6 × 5\n",
       "\n",
       "| <!--/--> | cd_mun &lt;chr&gt; | nm_mun &lt;chr&gt; | UF &lt;chr&gt; | temperature &lt;dbl&gt; | year_month &lt;chr&gt; |\n",
       "|---|---|---|---|---|---|\n",
       "| 1 | 1500107 | Abaetetuba | PA | 32.29361 | 2021-12 |\n",
       "| 2 | 1500800 | Ananindeua | PA | 32.45644 | 2021-12 |\n",
       "| 3 | 1501105 | Bagre      | PA | 32.98824 | 2021-12 |\n",
       "| 4 | 1501204 | Baião      | PA | 32.64342 | 2021-12 |\n",
       "| 5 | 1501303 | Barcarena  | PA | 32.06986 | 2021-12 |\n",
       "| 6 | 1501402 | Belém      | PA | 32.09974 | 2021-12 |\n",
       "\n"
      ],
      "text/plain": [
       "  cd_mun  nm_mun     UF temperature year_month\n",
       "1 1500107 Abaetetuba PA 32.29361    2021-12   \n",
       "2 1500800 Ananindeua PA 32.45644    2021-12   \n",
       "3 1501105 Bagre      PA 32.98824    2021-12   \n",
       "4 1501204 Baião      PA 32.64342    2021-12   \n",
       "5 1501303 Barcarena  PA 32.06986    2021-12   \n",
       "6 1501402 Belém      PA 32.09974    2021-12   "
      ]
     },
     "metadata": {},
     "output_type": "display_data"
    }
   ],
   "source": [
    "temperature_df <- do.call(rbind, temperature_dfs)\n",
    "\n",
    "unique(temperature_df$date)\n",
    "\n",
    "dim(temperature_df)\n",
    "head(temperature_df)"
   ]
  },
  {
   "cell_type": "markdown",
   "metadata": {},
   "source": [
    "# 3. Obtain dengue data\n",
    "<hr style=\"border:1px solid #0077b9;\">"
   ]
  },
  {
   "cell_type": "code",
   "execution_count": 126,
   "metadata": {
    "vscode": {
     "languageId": "r"
    }
   },
   "outputs": [
    {
     "data": {
      "text/html": [
       "<dl>\n",
       "\t<dt>$matched</dt>\n",
       "\t\t<dd>36</dd>\n",
       "\t<dt>$returned</dt>\n",
       "\t\t<dd>36</dd>\n",
       "</dl>\n"
      ],
      "text/latex": [
       "\\begin{description}\n",
       "\\item[\\$matched] 36\n",
       "\\item[\\$returned] 36\n",
       "\\end{description}\n"
      ],
      "text/markdown": [
       "$matched\n",
       ":   36\n",
       "$returned\n",
       ":   36\n",
       "\n",
       "\n"
      ],
      "text/plain": [
       "$matched\n",
       "[1] 36\n",
       "\n",
       "$returned\n",
       "[1] 36\n"
      ]
     },
     "metadata": {},
     "output_type": "display_data"
    }
   ],
   "source": [
    "dengue_search <- stac(HARMONIZE_STAC_URL) %>%\n",
    "  stac_search(\n",
    "    collections = DENGUE_COLLECTION_ID,\n",
    "    datetime = paste(START_DATE, END_DATE, sep='/'),\n",
    "    limit = 50\n",
    "  ) %>%\n",
    "  get_request()\n",
    "\n",
    "dengue_search$context"
   ]
  },
  {
   "cell_type": "markdown",
   "metadata": {},
   "source": [
    "### For each feature, get geojson as dataframe"
   ]
  },
  {
   "cell_type": "code",
   "execution_count": 127,
   "metadata": {
    "vscode": {
     "languageId": "r"
    }
   },
   "outputs": [
    {
     "name": "stdout",
     "output_type": "stream",
     "text": [
      "Reading layer `dengue_cases_mun_month_north_20211201' from data source \n",
      "  `https://brazildatacube.dpi.inpe.br/harmonize/dev/data/health_indicators/indi_0015/month/municipality/items/2021-12-01/north/dengue_cases_mun_month_north_20211201.geojson' \n",
      "  using driver `GeoJSON'\n",
      "Simple feature collection with 21 features and 6 fields\n",
      "Geometry type: POLYGON\n",
      "Dimension:     XY\n",
      "Bounding box:  xmin: -50.9967 ymin: -5.196937 xmax: -48.13749 ymax: -1.019427\n",
      "Geodetic CRS:  WGS 84\n",
      "Reading layer `dengue_cases_mun_month_north_20211101' from data source \n",
      "  `https://brazildatacube.dpi.inpe.br/harmonize/dev/data/health_indicators/indi_0015/month/municipality/items/2021-11-01/north/dengue_cases_mun_month_north_20211101.geojson' \n",
      "  using driver `GeoJSON'\n",
      "Simple feature collection with 21 features and 6 fields\n",
      "Geometry type: POLYGON\n",
      "Dimension:     XY\n",
      "Bounding box:  xmin: -50.9967 ymin: -5.196937 xmax: -48.13749 ymax: -1.019427\n",
      "Geodetic CRS:  WGS 84\n",
      "Reading layer `dengue_cases_mun_month_north_20211001' from data source \n",
      "  `https://brazildatacube.dpi.inpe.br/harmonize/dev/data/health_indicators/indi_0015/month/municipality/items/2021-10-01/north/dengue_cases_mun_month_north_20211001.geojson' \n",
      "  using driver `GeoJSON'\n",
      "Simple feature collection with 21 features and 6 fields\n",
      "Geometry type: POLYGON\n",
      "Dimension:     XY\n",
      "Bounding box:  xmin: -50.9967 ymin: -5.196937 xmax: -48.13749 ymax: -1.019427\n",
      "Geodetic CRS:  WGS 84\n",
      "Reading layer `dengue_cases_mun_month_north_20210901' from data source \n",
      "  `https://brazildatacube.dpi.inpe.br/harmonize/dev/data/health_indicators/indi_0015/month/municipality/items/2021-09-01/north/dengue_cases_mun_month_north_20210901.geojson' \n",
      "  using driver `GeoJSON'\n",
      "Simple feature collection with 21 features and 6 fields\n",
      "Geometry type: POLYGON\n",
      "Dimension:     XY\n",
      "Bounding box:  xmin: -50.9967 ymin: -5.196937 xmax: -48.13749 ymax: -1.019427\n",
      "Geodetic CRS:  WGS 84\n",
      "Reading layer `dengue_cases_mun_month_north_20210801' from data source \n",
      "  `https://brazildatacube.dpi.inpe.br/harmonize/dev/data/health_indicators/indi_0015/month/municipality/items/2021-08-01/north/dengue_cases_mun_month_north_20210801.geojson' \n",
      "  using driver `GeoJSON'\n",
      "Simple feature collection with 21 features and 6 fields\n",
      "Geometry type: POLYGON\n",
      "Dimension:     XY\n",
      "Bounding box:  xmin: -50.9967 ymin: -5.196937 xmax: -48.13749 ymax: -1.019427\n",
      "Geodetic CRS:  WGS 84\n",
      "Reading layer `dengue_cases_mun_month_north_20210701' from data source \n",
      "  `https://brazildatacube.dpi.inpe.br/harmonize/dev/data/health_indicators/indi_0015/month/municipality/items/2021-07-01/north/dengue_cases_mun_month_north_20210701.geojson' \n",
      "  using driver `GeoJSON'\n",
      "Simple feature collection with 21 features and 6 fields\n",
      "Geometry type: POLYGON\n",
      "Dimension:     XY\n",
      "Bounding box:  xmin: -50.9967 ymin: -5.196937 xmax: -48.13749 ymax: -1.019427\n",
      "Geodetic CRS:  WGS 84\n",
      "Reading layer `dengue_cases_mun_month_north_20210601' from data source \n",
      "  `https://brazildatacube.dpi.inpe.br/harmonize/dev/data/health_indicators/indi_0015/month/municipality/items/2021-06-01/north/dengue_cases_mun_month_north_20210601.geojson' \n",
      "  using driver `GeoJSON'\n",
      "Simple feature collection with 21 features and 6 fields\n",
      "Geometry type: POLYGON\n",
      "Dimension:     XY\n",
      "Bounding box:  xmin: -50.9967 ymin: -5.196937 xmax: -48.13749 ymax: -1.019427\n",
      "Geodetic CRS:  WGS 84\n",
      "Reading layer `dengue_cases_mun_month_north_20210501' from data source \n",
      "  `https://brazildatacube.dpi.inpe.br/harmonize/dev/data/health_indicators/indi_0015/month/municipality/items/2021-05-01/north/dengue_cases_mun_month_north_20210501.geojson' \n",
      "  using driver `GeoJSON'\n",
      "Simple feature collection with 21 features and 6 fields\n",
      "Geometry type: POLYGON\n",
      "Dimension:     XY\n",
      "Bounding box:  xmin: -50.9967 ymin: -5.196937 xmax: -48.13749 ymax: -1.019427\n",
      "Geodetic CRS:  WGS 84\n",
      "Reading layer `dengue_cases_mun_month_north_20210401' from data source \n",
      "  `https://brazildatacube.dpi.inpe.br/harmonize/dev/data/health_indicators/indi_0015/month/municipality/items/2021-04-01/north/dengue_cases_mun_month_north_20210401.geojson' \n",
      "  using driver `GeoJSON'\n",
      "Simple feature collection with 21 features and 6 fields\n",
      "Geometry type: POLYGON\n",
      "Dimension:     XY\n",
      "Bounding box:  xmin: -50.9967 ymin: -5.196937 xmax: -48.13749 ymax: -1.019427\n",
      "Geodetic CRS:  WGS 84\n",
      "Reading layer `dengue_cases_mun_month_north_20210301' from data source \n",
      "  `https://brazildatacube.dpi.inpe.br/harmonize/dev/data/health_indicators/indi_0015/month/municipality/items/2021-03-01/north/dengue_cases_mun_month_north_20210301.geojson' \n",
      "  using driver `GeoJSON'\n",
      "Simple feature collection with 21 features and 6 fields\n",
      "Geometry type: POLYGON\n",
      "Dimension:     XY\n",
      "Bounding box:  xmin: -50.9967 ymin: -5.196937 xmax: -48.13749 ymax: -1.019427\n",
      "Geodetic CRS:  WGS 84\n",
      "Reading layer `dengue_cases_mun_month_north_20210201' from data source \n",
      "  `https://brazildatacube.dpi.inpe.br/harmonize/dev/data/health_indicators/indi_0015/month/municipality/items/2021-02-01/north/dengue_cases_mun_month_north_20210201.geojson' \n",
      "  using driver `GeoJSON'\n",
      "Simple feature collection with 21 features and 6 fields\n",
      "Geometry type: POLYGON\n",
      "Dimension:     XY\n",
      "Bounding box:  xmin: -50.9967 ymin: -5.196937 xmax: -48.13749 ymax: -1.019427\n",
      "Geodetic CRS:  WGS 84\n",
      "Reading layer `dengue_cases_mun_month_north_20210101' from data source \n",
      "  `https://brazildatacube.dpi.inpe.br/harmonize/dev/data/health_indicators/indi_0015/month/municipality/items/2021-01-01/north/dengue_cases_mun_month_north_20210101.geojson' \n",
      "  using driver `GeoJSON'\n",
      "Simple feature collection with 21 features and 6 fields\n",
      "Geometry type: POLYGON\n",
      "Dimension:     XY\n",
      "Bounding box:  xmin: -50.9967 ymin: -5.196937 xmax: -48.13749 ymax: -1.019427\n",
      "Geodetic CRS:  WGS 84\n",
      "Reading layer `dengue_cases_mun_month_north_20201201' from data source \n",
      "  `https://brazildatacube.dpi.inpe.br/harmonize/dev/data/health_indicators/indi_0015/month/municipality/items/2020-12-01/north/dengue_cases_mun_month_north_20201201.geojson' \n",
      "  using driver `GeoJSON'\n",
      "Simple feature collection with 21 features and 6 fields\n",
      "Geometry type: POLYGON\n",
      "Dimension:     XY\n",
      "Bounding box:  xmin: -50.9967 ymin: -5.196937 xmax: -48.13749 ymax: -1.019427\n",
      "Geodetic CRS:  WGS 84\n",
      "Reading layer `dengue_cases_mun_month_north_20201101' from data source \n",
      "  `https://brazildatacube.dpi.inpe.br/harmonize/dev/data/health_indicators/indi_0015/month/municipality/items/2020-11-01/north/dengue_cases_mun_month_north_20201101.geojson' \n",
      "  using driver `GeoJSON'\n",
      "Simple feature collection with 21 features and 6 fields\n",
      "Geometry type: POLYGON\n",
      "Dimension:     XY\n",
      "Bounding box:  xmin: -50.9967 ymin: -5.196937 xmax: -48.13749 ymax: -1.019427\n",
      "Geodetic CRS:  WGS 84\n",
      "Reading layer `dengue_cases_mun_month_north_20201001' from data source \n",
      "  `https://brazildatacube.dpi.inpe.br/harmonize/dev/data/health_indicators/indi_0015/month/municipality/items/2020-10-01/north/dengue_cases_mun_month_north_20201001.geojson' \n",
      "  using driver `GeoJSON'\n",
      "Simple feature collection with 21 features and 6 fields\n",
      "Geometry type: POLYGON\n",
      "Dimension:     XY\n",
      "Bounding box:  xmin: -50.9967 ymin: -5.196937 xmax: -48.13749 ymax: -1.019427\n",
      "Geodetic CRS:  WGS 84\n",
      "Reading layer `dengue_cases_mun_month_north_20200901' from data source \n",
      "  `https://brazildatacube.dpi.inpe.br/harmonize/dev/data/health_indicators/indi_0015/month/municipality/items/2020-09-01/north/dengue_cases_mun_month_north_20200901.geojson' \n",
      "  using driver `GeoJSON'\n",
      "Simple feature collection with 21 features and 6 fields\n",
      "Geometry type: POLYGON\n",
      "Dimension:     XY\n",
      "Bounding box:  xmin: -50.9967 ymin: -5.196937 xmax: -48.13749 ymax: -1.019427\n",
      "Geodetic CRS:  WGS 84\n",
      "Reading layer `dengue_cases_mun_month_north_20200801' from data source \n",
      "  `https://brazildatacube.dpi.inpe.br/harmonize/dev/data/health_indicators/indi_0015/month/municipality/items/2020-08-01/north/dengue_cases_mun_month_north_20200801.geojson' \n",
      "  using driver `GeoJSON'\n",
      "Simple feature collection with 21 features and 6 fields\n",
      "Geometry type: POLYGON\n",
      "Dimension:     XY\n",
      "Bounding box:  xmin: -50.9967 ymin: -5.196937 xmax: -48.13749 ymax: -1.019427\n",
      "Geodetic CRS:  WGS 84\n",
      "Reading layer `dengue_cases_mun_month_north_20200701' from data source \n",
      "  `https://brazildatacube.dpi.inpe.br/harmonize/dev/data/health_indicators/indi_0015/month/municipality/items/2020-07-01/north/dengue_cases_mun_month_north_20200701.geojson' \n",
      "  using driver `GeoJSON'\n",
      "Simple feature collection with 21 features and 6 fields\n",
      "Geometry type: POLYGON\n",
      "Dimension:     XY\n",
      "Bounding box:  xmin: -50.9967 ymin: -5.196937 xmax: -48.13749 ymax: -1.019427\n",
      "Geodetic CRS:  WGS 84\n",
      "Reading layer `dengue_cases_mun_month_north_20200601' from data source \n",
      "  `https://brazildatacube.dpi.inpe.br/harmonize/dev/data/health_indicators/indi_0015/month/municipality/items/2020-06-01/north/dengue_cases_mun_month_north_20200601.geojson' \n",
      "  using driver `GeoJSON'\n",
      "Simple feature collection with 21 features and 6 fields\n",
      "Geometry type: POLYGON\n",
      "Dimension:     XY\n",
      "Bounding box:  xmin: -50.9967 ymin: -5.196937 xmax: -48.13749 ymax: -1.019427\n",
      "Geodetic CRS:  WGS 84\n",
      "Reading layer `dengue_cases_mun_month_north_20200501' from data source \n",
      "  `https://brazildatacube.dpi.inpe.br/harmonize/dev/data/health_indicators/indi_0015/month/municipality/items/2020-05-01/north/dengue_cases_mun_month_north_20200501.geojson' \n",
      "  using driver `GeoJSON'\n",
      "Simple feature collection with 21 features and 6 fields\n",
      "Geometry type: POLYGON\n",
      "Dimension:     XY\n",
      "Bounding box:  xmin: -50.9967 ymin: -5.196937 xmax: -48.13749 ymax: -1.019427\n",
      "Geodetic CRS:  WGS 84\n",
      "Reading layer `dengue_cases_mun_month_north_20200401' from data source \n",
      "  `https://brazildatacube.dpi.inpe.br/harmonize/dev/data/health_indicators/indi_0015/month/municipality/items/2020-04-01/north/dengue_cases_mun_month_north_20200401.geojson' \n",
      "  using driver `GeoJSON'\n",
      "Simple feature collection with 21 features and 6 fields\n",
      "Geometry type: POLYGON\n",
      "Dimension:     XY\n",
      "Bounding box:  xmin: -50.9967 ymin: -5.196937 xmax: -48.13749 ymax: -1.019427\n",
      "Geodetic CRS:  WGS 84\n",
      "Reading layer `dengue_cases_mun_month_north_20200301' from data source \n",
      "  `https://brazildatacube.dpi.inpe.br/harmonize/dev/data/health_indicators/indi_0015/month/municipality/items/2020-03-01/north/dengue_cases_mun_month_north_20200301.geojson' \n",
      "  using driver `GeoJSON'\n",
      "Simple feature collection with 21 features and 6 fields\n",
      "Geometry type: POLYGON\n",
      "Dimension:     XY\n",
      "Bounding box:  xmin: -50.9967 ymin: -5.196937 xmax: -48.13749 ymax: -1.019427\n",
      "Geodetic CRS:  WGS 84\n",
      "Reading layer `dengue_cases_mun_month_north_20200201' from data source \n",
      "  `https://brazildatacube.dpi.inpe.br/harmonize/dev/data/health_indicators/indi_0015/month/municipality/items/2020-02-01/north/dengue_cases_mun_month_north_20200201.geojson' \n",
      "  using driver `GeoJSON'\n",
      "Simple feature collection with 21 features and 6 fields\n",
      "Geometry type: POLYGON\n",
      "Dimension:     XY\n",
      "Bounding box:  xmin: -50.9967 ymin: -5.196937 xmax: -48.13749 ymax: -1.019427\n",
      "Geodetic CRS:  WGS 84\n",
      "Reading layer `dengue_cases_mun_month_north_20200101' from data source \n",
      "  `https://brazildatacube.dpi.inpe.br/harmonize/dev/data/health_indicators/indi_0015/month/municipality/items/2020-01-01/north/dengue_cases_mun_month_north_20200101.geojson' \n",
      "  using driver `GeoJSON'\n",
      "Simple feature collection with 21 features and 6 fields\n",
      "Geometry type: POLYGON\n",
      "Dimension:     XY\n",
      "Bounding box:  xmin: -50.9967 ymin: -5.196937 xmax: -48.13749 ymax: -1.019427\n",
      "Geodetic CRS:  WGS 84\n",
      "Reading layer `dengue_cases_mun_month_north_20191201' from data source \n",
      "  `https://brazildatacube.dpi.inpe.br/harmonize/dev/data/health_indicators/indi_0015/month/municipality/items/2019-12-01/north/dengue_cases_mun_month_north_20191201.geojson' \n",
      "  using driver `GeoJSON'\n",
      "Simple feature collection with 21 features and 6 fields\n",
      "Geometry type: POLYGON\n",
      "Dimension:     XY\n",
      "Bounding box:  xmin: -50.9967 ymin: -5.196937 xmax: -48.13749 ymax: -1.019427\n",
      "Geodetic CRS:  WGS 84\n",
      "Reading layer `dengue_cases_mun_month_north_20191101' from data source \n",
      "  `https://brazildatacube.dpi.inpe.br/harmonize/dev/data/health_indicators/indi_0015/month/municipality/items/2019-11-01/north/dengue_cases_mun_month_north_20191101.geojson' \n",
      "  using driver `GeoJSON'\n",
      "Simple feature collection with 21 features and 6 fields\n",
      "Geometry type: POLYGON\n",
      "Dimension:     XY\n",
      "Bounding box:  xmin: -50.9967 ymin: -5.196937 xmax: -48.13749 ymax: -1.019427\n",
      "Geodetic CRS:  WGS 84\n",
      "Reading layer `dengue_cases_mun_month_north_20191001' from data source \n",
      "  `https://brazildatacube.dpi.inpe.br/harmonize/dev/data/health_indicators/indi_0015/month/municipality/items/2019-10-01/north/dengue_cases_mun_month_north_20191001.geojson' \n",
      "  using driver `GeoJSON'\n",
      "Simple feature collection with 21 features and 6 fields\n",
      "Geometry type: POLYGON\n",
      "Dimension:     XY\n",
      "Bounding box:  xmin: -50.9967 ymin: -5.196937 xmax: -48.13749 ymax: -1.019427\n",
      "Geodetic CRS:  WGS 84\n",
      "Reading layer `dengue_cases_mun_month_north_20190901' from data source \n",
      "  `https://brazildatacube.dpi.inpe.br/harmonize/dev/data/health_indicators/indi_0015/month/municipality/items/2019-09-01/north/dengue_cases_mun_month_north_20190901.geojson' \n",
      "  using driver `GeoJSON'\n",
      "Simple feature collection with 21 features and 6 fields\n",
      "Geometry type: POLYGON\n",
      "Dimension:     XY\n",
      "Bounding box:  xmin: -50.9967 ymin: -5.196937 xmax: -48.13749 ymax: -1.019427\n",
      "Geodetic CRS:  WGS 84\n",
      "Reading layer `dengue_cases_mun_month_north_20190801' from data source \n",
      "  `https://brazildatacube.dpi.inpe.br/harmonize/dev/data/health_indicators/indi_0015/month/municipality/items/2019-08-01/north/dengue_cases_mun_month_north_20190801.geojson' \n",
      "  using driver `GeoJSON'\n",
      "Simple feature collection with 21 features and 6 fields\n",
      "Geometry type: POLYGON\n",
      "Dimension:     XY\n",
      "Bounding box:  xmin: -50.9967 ymin: -5.196937 xmax: -48.13749 ymax: -1.019427\n",
      "Geodetic CRS:  WGS 84\n",
      "Reading layer `dengue_cases_mun_month_north_20190701' from data source \n",
      "  `https://brazildatacube.dpi.inpe.br/harmonize/dev/data/health_indicators/indi_0015/month/municipality/items/2019-07-01/north/dengue_cases_mun_month_north_20190701.geojson' \n",
      "  using driver `GeoJSON'\n",
      "Simple feature collection with 21 features and 6 fields\n",
      "Geometry type: POLYGON\n",
      "Dimension:     XY\n",
      "Bounding box:  xmin: -50.9967 ymin: -5.196937 xmax: -48.13749 ymax: -1.019427\n",
      "Geodetic CRS:  WGS 84\n",
      "Reading layer `dengue_cases_mun_month_north_20190601' from data source \n",
      "  `https://brazildatacube.dpi.inpe.br/harmonize/dev/data/health_indicators/indi_0015/month/municipality/items/2019-06-01/north/dengue_cases_mun_month_north_20190601.geojson' \n",
      "  using driver `GeoJSON'\n",
      "Simple feature collection with 21 features and 6 fields\n",
      "Geometry type: POLYGON\n",
      "Dimension:     XY\n",
      "Bounding box:  xmin: -50.9967 ymin: -5.196937 xmax: -48.13749 ymax: -1.019427\n",
      "Geodetic CRS:  WGS 84\n",
      "Reading layer `dengue_cases_mun_month_north_20190501' from data source \n",
      "  `https://brazildatacube.dpi.inpe.br/harmonize/dev/data/health_indicators/indi_0015/month/municipality/items/2019-05-01/north/dengue_cases_mun_month_north_20190501.geojson' \n",
      "  using driver `GeoJSON'\n",
      "Simple feature collection with 21 features and 6 fields\n",
      "Geometry type: POLYGON\n",
      "Dimension:     XY\n",
      "Bounding box:  xmin: -50.9967 ymin: -5.196937 xmax: -48.13749 ymax: -1.019427\n",
      "Geodetic CRS:  WGS 84\n",
      "Reading layer `dengue_cases_mun_month_north_20190401' from data source \n",
      "  `https://brazildatacube.dpi.inpe.br/harmonize/dev/data/health_indicators/indi_0015/month/municipality/items/2019-04-01/north/dengue_cases_mun_month_north_20190401.geojson' \n",
      "  using driver `GeoJSON'\n",
      "Simple feature collection with 21 features and 6 fields\n",
      "Geometry type: POLYGON\n",
      "Dimension:     XY\n",
      "Bounding box:  xmin: -50.9967 ymin: -5.196937 xmax: -48.13749 ymax: -1.019427\n",
      "Geodetic CRS:  WGS 84\n",
      "Reading layer `dengue_cases_mun_month_north_20190301' from data source \n",
      "  `https://brazildatacube.dpi.inpe.br/harmonize/dev/data/health_indicators/indi_0015/month/municipality/items/2019-03-01/north/dengue_cases_mun_month_north_20190301.geojson' \n",
      "  using driver `GeoJSON'\n",
      "Simple feature collection with 21 features and 6 fields\n",
      "Geometry type: POLYGON\n",
      "Dimension:     XY\n",
      "Bounding box:  xmin: -50.9967 ymin: -5.196937 xmax: -48.13749 ymax: -1.019427\n",
      "Geodetic CRS:  WGS 84\n",
      "Reading layer `dengue_cases_mun_month_north_20190201' from data source \n",
      "  `https://brazildatacube.dpi.inpe.br/harmonize/dev/data/health_indicators/indi_0015/month/municipality/items/2019-02-01/north/dengue_cases_mun_month_north_20190201.geojson' \n",
      "  using driver `GeoJSON'\n",
      "Simple feature collection with 21 features and 6 fields\n",
      "Geometry type: POLYGON\n",
      "Dimension:     XY\n",
      "Bounding box:  xmin: -50.9967 ymin: -5.196937 xmax: -48.13749 ymax: -1.019427\n",
      "Geodetic CRS:  WGS 84\n",
      "Reading layer `dengue_cases_mun_month_north_20190101' from data source \n",
      "  `https://brazildatacube.dpi.inpe.br/harmonize/dev/data/health_indicators/indi_0015/month/municipality/items/2019-01-01/north/dengue_cases_mun_month_north_20190101.geojson' \n",
      "  using driver `GeoJSON'\n",
      "Simple feature collection with 21 features and 6 fields\n",
      "Geometry type: POLYGON\n",
      "Dimension:     XY\n",
      "Bounding box:  xmin: -50.9967 ymin: -5.196937 xmax: -48.13749 ymax: -1.019427\n",
      "Geodetic CRS:  WGS 84\n"
     ]
    }
   ],
   "source": [
    "dengue_features <- dengue_search$features\n",
    "\n",
    "dengue_dfs <- list()\n",
    "for (i in 1:length(dengue_features)){\n",
    "    feature <- dengue_features[[i]]\n",
    "    datetime <- feature$properties$datetime\n",
    "    geojson_href <- feature$assets$geojson$href\n",
    "\n",
    "    df <- as.data.frame(st_read(geojson_href)) %>%\n",
    "        dplyr::select(cod, value) %>%\n",
    "        rename(cd_mun = cod, cases = value) %>%\n",
    "        mutate(cases = as.numeric(cases)) %>%\n",
    "        mutate(year_month = format(as.Date(datetime), \"%Y-%m\"))\n",
    "\n",
    "    dengue_dfs[[i]] <- df\n",
    "}\n",
    "# dengue_dfs"
   ]
  },
  {
   "cell_type": "markdown",
   "metadata": {},
   "source": [
    "### rbind all dataframes"
   ]
  },
  {
   "cell_type": "code",
   "execution_count": 128,
   "metadata": {
    "vscode": {
     "languageId": "r"
    }
   },
   "outputs": [
    {
     "data": {
      "text/html": [
       "<style>\n",
       ".list-inline {list-style: none; margin:0; padding: 0}\n",
       ".list-inline>li {display: inline-block}\n",
       ".list-inline>li:not(:last-child)::after {content: \"\\00b7\"; padding: 0 .5ex}\n",
       "</style>\n",
       "<ol class=list-inline><li>'2021-12'</li><li>'2021-11'</li><li>'2021-10'</li><li>'2021-09'</li><li>'2021-08'</li><li>'2021-07'</li><li>'2021-06'</li><li>'2021-05'</li><li>'2021-04'</li><li>'2021-03'</li><li>'2021-02'</li><li>'2021-01'</li><li>'2020-12'</li><li>'2020-11'</li><li>'2020-10'</li><li>'2020-09'</li><li>'2020-08'</li><li>'2020-07'</li><li>'2020-06'</li><li>'2020-05'</li><li>'2020-04'</li><li>'2020-03'</li><li>'2020-02'</li><li>'2020-01'</li><li>'2019-12'</li><li>'2019-11'</li><li>'2019-10'</li><li>'2019-09'</li><li>'2019-08'</li><li>'2019-07'</li><li>'2019-06'</li><li>'2019-05'</li><li>'2019-04'</li><li>'2019-03'</li><li>'2019-02'</li><li>'2019-01'</li></ol>\n"
      ],
      "text/latex": [
       "\\begin{enumerate*}\n",
       "\\item '2021-12'\n",
       "\\item '2021-11'\n",
       "\\item '2021-10'\n",
       "\\item '2021-09'\n",
       "\\item '2021-08'\n",
       "\\item '2021-07'\n",
       "\\item '2021-06'\n",
       "\\item '2021-05'\n",
       "\\item '2021-04'\n",
       "\\item '2021-03'\n",
       "\\item '2021-02'\n",
       "\\item '2021-01'\n",
       "\\item '2020-12'\n",
       "\\item '2020-11'\n",
       "\\item '2020-10'\n",
       "\\item '2020-09'\n",
       "\\item '2020-08'\n",
       "\\item '2020-07'\n",
       "\\item '2020-06'\n",
       "\\item '2020-05'\n",
       "\\item '2020-04'\n",
       "\\item '2020-03'\n",
       "\\item '2020-02'\n",
       "\\item '2020-01'\n",
       "\\item '2019-12'\n",
       "\\item '2019-11'\n",
       "\\item '2019-10'\n",
       "\\item '2019-09'\n",
       "\\item '2019-08'\n",
       "\\item '2019-07'\n",
       "\\item '2019-06'\n",
       "\\item '2019-05'\n",
       "\\item '2019-04'\n",
       "\\item '2019-03'\n",
       "\\item '2019-02'\n",
       "\\item '2019-01'\n",
       "\\end{enumerate*}\n"
      ],
      "text/markdown": [
       "1. '2021-12'\n",
       "2. '2021-11'\n",
       "3. '2021-10'\n",
       "4. '2021-09'\n",
       "5. '2021-08'\n",
       "6. '2021-07'\n",
       "7. '2021-06'\n",
       "8. '2021-05'\n",
       "9. '2021-04'\n",
       "10. '2021-03'\n",
       "11. '2021-02'\n",
       "12. '2021-01'\n",
       "13. '2020-12'\n",
       "14. '2020-11'\n",
       "15. '2020-10'\n",
       "16. '2020-09'\n",
       "17. '2020-08'\n",
       "18. '2020-07'\n",
       "19. '2020-06'\n",
       "20. '2020-05'\n",
       "21. '2020-04'\n",
       "22. '2020-03'\n",
       "23. '2020-02'\n",
       "24. '2020-01'\n",
       "25. '2019-12'\n",
       "26. '2019-11'\n",
       "27. '2019-10'\n",
       "28. '2019-09'\n",
       "29. '2019-08'\n",
       "30. '2019-07'\n",
       "31. '2019-06'\n",
       "32. '2019-05'\n",
       "33. '2019-04'\n",
       "34. '2019-03'\n",
       "35. '2019-02'\n",
       "36. '2019-01'\n",
       "\n",
       "\n"
      ],
      "text/plain": [
       " [1] \"2021-12\" \"2021-11\" \"2021-10\" \"2021-09\" \"2021-08\" \"2021-07\" \"2021-06\"\n",
       " [8] \"2021-05\" \"2021-04\" \"2021-03\" \"2021-02\" \"2021-01\" \"2020-12\" \"2020-11\"\n",
       "[15] \"2020-10\" \"2020-09\" \"2020-08\" \"2020-07\" \"2020-06\" \"2020-05\" \"2020-04\"\n",
       "[22] \"2020-03\" \"2020-02\" \"2020-01\" \"2019-12\" \"2019-11\" \"2019-10\" \"2019-09\"\n",
       "[29] \"2019-08\" \"2019-07\" \"2019-06\" \"2019-05\" \"2019-04\" \"2019-03\" \"2019-02\"\n",
       "[36] \"2019-01\""
      ]
     },
     "metadata": {},
     "output_type": "display_data"
    },
    {
     "data": {
      "text/html": [
       "<style>\n",
       ".list-inline {list-style: none; margin:0; padding: 0}\n",
       ".list-inline>li {display: inline-block}\n",
       ".list-inline>li:not(:last-child)::after {content: \"\\00b7\"; padding: 0 .5ex}\n",
       "</style>\n",
       "<ol class=list-inline><li>756</li><li>3</li></ol>\n"
      ],
      "text/latex": [
       "\\begin{enumerate*}\n",
       "\\item 756\n",
       "\\item 3\n",
       "\\end{enumerate*}\n"
      ],
      "text/markdown": [
       "1. 756\n",
       "2. 3\n",
       "\n",
       "\n"
      ],
      "text/plain": [
       "[1] 756   3"
      ]
     },
     "metadata": {},
     "output_type": "display_data"
    },
    {
     "data": {
      "text/html": [
       "<table class=\"dataframe\">\n",
       "<caption>A data.frame: 6 × 3</caption>\n",
       "<thead>\n",
       "\t<tr><th></th><th scope=col>cd_mun</th><th scope=col>cases</th><th scope=col>year_month</th></tr>\n",
       "\t<tr><th></th><th scope=col>&lt;chr&gt;</th><th scope=col>&lt;dbl&gt;</th><th scope=col>&lt;chr&gt;</th></tr>\n",
       "</thead>\n",
       "<tbody>\n",
       "\t<tr><th scope=row>1</th><td>150010</td><td>0.00</td><td>2021-12</td></tr>\n",
       "\t<tr><th scope=row>2</th><td>150080</td><td>0.19</td><td>2021-12</td></tr>\n",
       "\t<tr><th scope=row>3</th><td>150110</td><td>0.00</td><td>2021-12</td></tr>\n",
       "\t<tr><th scope=row>4</th><td>150120</td><td>0.00</td><td>2021-12</td></tr>\n",
       "\t<tr><th scope=row>5</th><td>150130</td><td>0.00</td><td>2021-12</td></tr>\n",
       "\t<tr><th scope=row>6</th><td>150140</td><td>0.20</td><td>2021-12</td></tr>\n",
       "</tbody>\n",
       "</table>\n"
      ],
      "text/latex": [
       "A data.frame: 6 × 3\n",
       "\\begin{tabular}{r|lll}\n",
       "  & cd\\_mun & cases & year\\_month\\\\\n",
       "  & <chr> & <dbl> & <chr>\\\\\n",
       "\\hline\n",
       "\t1 & 150010 & 0.00 & 2021-12\\\\\n",
       "\t2 & 150080 & 0.19 & 2021-12\\\\\n",
       "\t3 & 150110 & 0.00 & 2021-12\\\\\n",
       "\t4 & 150120 & 0.00 & 2021-12\\\\\n",
       "\t5 & 150130 & 0.00 & 2021-12\\\\\n",
       "\t6 & 150140 & 0.20 & 2021-12\\\\\n",
       "\\end{tabular}\n"
      ],
      "text/markdown": [
       "\n",
       "A data.frame: 6 × 3\n",
       "\n",
       "| <!--/--> | cd_mun &lt;chr&gt; | cases &lt;dbl&gt; | year_month &lt;chr&gt; |\n",
       "|---|---|---|---|\n",
       "| 1 | 150010 | 0.00 | 2021-12 |\n",
       "| 2 | 150080 | 0.19 | 2021-12 |\n",
       "| 3 | 150110 | 0.00 | 2021-12 |\n",
       "| 4 | 150120 | 0.00 | 2021-12 |\n",
       "| 5 | 150130 | 0.00 | 2021-12 |\n",
       "| 6 | 150140 | 0.20 | 2021-12 |\n",
       "\n"
      ],
      "text/plain": [
       "  cd_mun cases year_month\n",
       "1 150010 0.00  2021-12   \n",
       "2 150080 0.19  2021-12   \n",
       "3 150110 0.00  2021-12   \n",
       "4 150120 0.00  2021-12   \n",
       "5 150130 0.00  2021-12   \n",
       "6 150140 0.20  2021-12   "
      ]
     },
     "metadata": {},
     "output_type": "display_data"
    }
   ],
   "source": [
    "dengue_df <- do.call(rbind, dengue_dfs)\n",
    "\n",
    "unique(dengue_df$year_month)\n",
    "\n",
    "dim(dengue_df)\n",
    "head(dengue_df)"
   ]
  },
  {
   "cell_type": "markdown",
   "metadata": {},
   "source": [
    "# 4. Regression\n",
    "<hr style=\"border:1px solid #0077b9;\">"
   ]
  },
  {
   "cell_type": "markdown",
   "metadata": {},
   "source": [
    "## 4.1 Temperature vs. Dengue"
   ]
  },
  {
   "cell_type": "code",
   "execution_count": 129,
   "metadata": {
    "vscode": {
     "languageId": "r"
    }
   },
   "outputs": [
    {
     "data": {
      "text/html": [
       "<style>\n",
       ".list-inline {list-style: none; margin:0; padding: 0}\n",
       ".list-inline>li {display: inline-block}\n",
       ".list-inline>li:not(:last-child)::after {content: \"\\00b7\"; padding: 0 .5ex}\n",
       "</style>\n",
       "<ol class=list-inline><li>756</li><li>5</li></ol>\n"
      ],
      "text/latex": [
       "\\begin{enumerate*}\n",
       "\\item 756\n",
       "\\item 5\n",
       "\\end{enumerate*}\n"
      ],
      "text/markdown": [
       "1. 756\n",
       "2. 5\n",
       "\n",
       "\n"
      ],
      "text/plain": [
       "[1] 756   5"
      ]
     },
     "metadata": {},
     "output_type": "display_data"
    },
    {
     "data": {
      "text/html": [
       "<table class=\"dataframe\">\n",
       "<caption>A data.frame: 6 × 5</caption>\n",
       "<thead>\n",
       "\t<tr><th></th><th scope=col>cd_mun</th><th scope=col>nm_mun</th><th scope=col>UF</th><th scope=col>temperature</th><th scope=col>year_month</th></tr>\n",
       "\t<tr><th></th><th scope=col>&lt;chr&gt;</th><th scope=col>&lt;chr&gt;</th><th scope=col>&lt;chr&gt;</th><th scope=col>&lt;dbl&gt;</th><th scope=col>&lt;chr&gt;</th></tr>\n",
       "</thead>\n",
       "<tbody>\n",
       "\t<tr><th scope=row>1</th><td>1500107</td><td>Abaetetuba</td><td>PA</td><td>32.29361</td><td>2021-12</td></tr>\n",
       "\t<tr><th scope=row>2</th><td>1500800</td><td>Ananindeua</td><td>PA</td><td>32.45644</td><td>2021-12</td></tr>\n",
       "\t<tr><th scope=row>3</th><td>1501105</td><td>Bagre     </td><td>PA</td><td>32.98824</td><td>2021-12</td></tr>\n",
       "\t<tr><th scope=row>4</th><td>1501204</td><td>Baião     </td><td>PA</td><td>32.64342</td><td>2021-12</td></tr>\n",
       "\t<tr><th scope=row>5</th><td>1501303</td><td>Barcarena </td><td>PA</td><td>32.06986</td><td>2021-12</td></tr>\n",
       "\t<tr><th scope=row>6</th><td>1501402</td><td>Belém     </td><td>PA</td><td>32.09974</td><td>2021-12</td></tr>\n",
       "</tbody>\n",
       "</table>\n"
      ],
      "text/latex": [
       "A data.frame: 6 × 5\n",
       "\\begin{tabular}{r|lllll}\n",
       "  & cd\\_mun & nm\\_mun & UF & temperature & year\\_month\\\\\n",
       "  & <chr> & <chr> & <chr> & <dbl> & <chr>\\\\\n",
       "\\hline\n",
       "\t1 & 1500107 & Abaetetuba & PA & 32.29361 & 2021-12\\\\\n",
       "\t2 & 1500800 & Ananindeua & PA & 32.45644 & 2021-12\\\\\n",
       "\t3 & 1501105 & Bagre      & PA & 32.98824 & 2021-12\\\\\n",
       "\t4 & 1501204 & Baião      & PA & 32.64342 & 2021-12\\\\\n",
       "\t5 & 1501303 & Barcarena  & PA & 32.06986 & 2021-12\\\\\n",
       "\t6 & 1501402 & Belém      & PA & 32.09974 & 2021-12\\\\\n",
       "\\end{tabular}\n"
      ],
      "text/markdown": [
       "\n",
       "A data.frame: 6 × 5\n",
       "\n",
       "| <!--/--> | cd_mun &lt;chr&gt; | nm_mun &lt;chr&gt; | UF &lt;chr&gt; | temperature &lt;dbl&gt; | year_month &lt;chr&gt; |\n",
       "|---|---|---|---|---|---|\n",
       "| 1 | 1500107 | Abaetetuba | PA | 32.29361 | 2021-12 |\n",
       "| 2 | 1500800 | Ananindeua | PA | 32.45644 | 2021-12 |\n",
       "| 3 | 1501105 | Bagre      | PA | 32.98824 | 2021-12 |\n",
       "| 4 | 1501204 | Baião      | PA | 32.64342 | 2021-12 |\n",
       "| 5 | 1501303 | Barcarena  | PA | 32.06986 | 2021-12 |\n",
       "| 6 | 1501402 | Belém      | PA | 32.09974 | 2021-12 |\n",
       "\n"
      ],
      "text/plain": [
       "  cd_mun  nm_mun     UF temperature year_month\n",
       "1 1500107 Abaetetuba PA 32.29361    2021-12   \n",
       "2 1500800 Ananindeua PA 32.45644    2021-12   \n",
       "3 1501105 Bagre      PA 32.98824    2021-12   \n",
       "4 1501204 Baião      PA 32.64342    2021-12   \n",
       "5 1501303 Barcarena  PA 32.06986    2021-12   \n",
       "6 1501402 Belém      PA 32.09974    2021-12   "
      ]
     },
     "metadata": {},
     "output_type": "display_data"
    },
    {
     "data": {
      "text/html": [
       "<style>\n",
       ".list-inline {list-style: none; margin:0; padding: 0}\n",
       ".list-inline>li {display: inline-block}\n",
       ".list-inline>li:not(:last-child)::after {content: \"\\00b7\"; padding: 0 .5ex}\n",
       "</style>\n",
       "<ol class=list-inline><li>756</li><li>3</li></ol>\n"
      ],
      "text/latex": [
       "\\begin{enumerate*}\n",
       "\\item 756\n",
       "\\item 3\n",
       "\\end{enumerate*}\n"
      ],
      "text/markdown": [
       "1. 756\n",
       "2. 3\n",
       "\n",
       "\n"
      ],
      "text/plain": [
       "[1] 756   3"
      ]
     },
     "metadata": {},
     "output_type": "display_data"
    },
    {
     "data": {
      "text/html": [
       "<table class=\"dataframe\">\n",
       "<caption>A data.frame: 6 × 3</caption>\n",
       "<thead>\n",
       "\t<tr><th></th><th scope=col>cd_mun</th><th scope=col>cases</th><th scope=col>year_month</th></tr>\n",
       "\t<tr><th></th><th scope=col>&lt;chr&gt;</th><th scope=col>&lt;dbl&gt;</th><th scope=col>&lt;chr&gt;</th></tr>\n",
       "</thead>\n",
       "<tbody>\n",
       "\t<tr><th scope=row>1</th><td>150010</td><td>0.00</td><td>2021-12</td></tr>\n",
       "\t<tr><th scope=row>2</th><td>150080</td><td>0.19</td><td>2021-12</td></tr>\n",
       "\t<tr><th scope=row>3</th><td>150110</td><td>0.00</td><td>2021-12</td></tr>\n",
       "\t<tr><th scope=row>4</th><td>150120</td><td>0.00</td><td>2021-12</td></tr>\n",
       "\t<tr><th scope=row>5</th><td>150130</td><td>0.00</td><td>2021-12</td></tr>\n",
       "\t<tr><th scope=row>6</th><td>150140</td><td>0.20</td><td>2021-12</td></tr>\n",
       "</tbody>\n",
       "</table>\n"
      ],
      "text/latex": [
       "A data.frame: 6 × 3\n",
       "\\begin{tabular}{r|lll}\n",
       "  & cd\\_mun & cases & year\\_month\\\\\n",
       "  & <chr> & <dbl> & <chr>\\\\\n",
       "\\hline\n",
       "\t1 & 150010 & 0.00 & 2021-12\\\\\n",
       "\t2 & 150080 & 0.19 & 2021-12\\\\\n",
       "\t3 & 150110 & 0.00 & 2021-12\\\\\n",
       "\t4 & 150120 & 0.00 & 2021-12\\\\\n",
       "\t5 & 150130 & 0.00 & 2021-12\\\\\n",
       "\t6 & 150140 & 0.20 & 2021-12\\\\\n",
       "\\end{tabular}\n"
      ],
      "text/markdown": [
       "\n",
       "A data.frame: 6 × 3\n",
       "\n",
       "| <!--/--> | cd_mun &lt;chr&gt; | cases &lt;dbl&gt; | year_month &lt;chr&gt; |\n",
       "|---|---|---|---|\n",
       "| 1 | 150010 | 0.00 | 2021-12 |\n",
       "| 2 | 150080 | 0.19 | 2021-12 |\n",
       "| 3 | 150110 | 0.00 | 2021-12 |\n",
       "| 4 | 150120 | 0.00 | 2021-12 |\n",
       "| 5 | 150130 | 0.00 | 2021-12 |\n",
       "| 6 | 150140 | 0.20 | 2021-12 |\n",
       "\n"
      ],
      "text/plain": [
       "  cd_mun cases year_month\n",
       "1 150010 0.00  2021-12   \n",
       "2 150080 0.19  2021-12   \n",
       "3 150110 0.00  2021-12   \n",
       "4 150120 0.00  2021-12   \n",
       "5 150130 0.00  2021-12   \n",
       "6 150140 0.20  2021-12   "
      ]
     },
     "metadata": {},
     "output_type": "display_data"
    }
   ],
   "source": [
    "dim(temperature_df)\n",
    "head(temperature_df)\n",
    "\n",
    "dim(dengue_df)\n",
    "head(dengue_df)"
   ]
  },
  {
   "cell_type": "markdown",
   "metadata": {},
   "source": [
    "### Merge dataframes"
   ]
  },
  {
   "cell_type": "code",
   "execution_count": 130,
   "metadata": {
    "vscode": {
     "languageId": "r"
    }
   },
   "outputs": [
    {
     "data": {
      "text/html": [
       "<style>\n",
       ".list-inline {list-style: none; margin:0; padding: 0}\n",
       ".list-inline>li {display: inline-block}\n",
       ".list-inline>li:not(:last-child)::after {content: \"\\00b7\"; padding: 0 .5ex}\n",
       "</style>\n",
       "<ol class=list-inline><li>756</li><li>6</li></ol>\n"
      ],
      "text/latex": [
       "\\begin{enumerate*}\n",
       "\\item 756\n",
       "\\item 6\n",
       "\\end{enumerate*}\n"
      ],
      "text/markdown": [
       "1. 756\n",
       "2. 6\n",
       "\n",
       "\n"
      ],
      "text/plain": [
       "[1] 756   6"
      ]
     },
     "metadata": {},
     "output_type": "display_data"
    },
    {
     "data": {
      "text/html": [
       "<table class=\"dataframe\">\n",
       "<caption>A data.frame: 6 × 6</caption>\n",
       "<thead>\n",
       "\t<tr><th></th><th scope=col>cd_mun</th><th scope=col>year_month</th><th scope=col>nm_mun</th><th scope=col>UF</th><th scope=col>temperature</th><th scope=col>cases</th></tr>\n",
       "\t<tr><th></th><th scope=col>&lt;chr&gt;</th><th scope=col>&lt;chr&gt;</th><th scope=col>&lt;chr&gt;</th><th scope=col>&lt;chr&gt;</th><th scope=col>&lt;dbl&gt;</th><th scope=col>&lt;dbl&gt;</th></tr>\n",
       "</thead>\n",
       "<tbody>\n",
       "\t<tr><th scope=row>1</th><td>150010</td><td>2019-01</td><td>Abaetetuba</td><td>PA</td><td>31.60663</td><td>0.00</td></tr>\n",
       "\t<tr><th scope=row>2</th><td>150010</td><td>2019-02</td><td>Abaetetuba</td><td>PA</td><td>30.89762</td><td>0.63</td></tr>\n",
       "\t<tr><th scope=row>3</th><td>150010</td><td>2019-03</td><td>Abaetetuba</td><td>PA</td><td>30.43442</td><td>0.00</td></tr>\n",
       "\t<tr><th scope=row>4</th><td>150010</td><td>2019-04</td><td>Abaetetuba</td><td>PA</td><td>30.42358</td><td>0.63</td></tr>\n",
       "\t<tr><th scope=row>5</th><td>150010</td><td>2019-05</td><td>Abaetetuba</td><td>PA</td><td>31.05354</td><td>0.00</td></tr>\n",
       "\t<tr><th scope=row>6</th><td>150010</td><td>2019-06</td><td>Abaetetuba</td><td>PA</td><td>31.17913</td><td>0.63</td></tr>\n",
       "</tbody>\n",
       "</table>\n"
      ],
      "text/latex": [
       "A data.frame: 6 × 6\n",
       "\\begin{tabular}{r|llllll}\n",
       "  & cd\\_mun & year\\_month & nm\\_mun & UF & temperature & cases\\\\\n",
       "  & <chr> & <chr> & <chr> & <chr> & <dbl> & <dbl>\\\\\n",
       "\\hline\n",
       "\t1 & 150010 & 2019-01 & Abaetetuba & PA & 31.60663 & 0.00\\\\\n",
       "\t2 & 150010 & 2019-02 & Abaetetuba & PA & 30.89762 & 0.63\\\\\n",
       "\t3 & 150010 & 2019-03 & Abaetetuba & PA & 30.43442 & 0.00\\\\\n",
       "\t4 & 150010 & 2019-04 & Abaetetuba & PA & 30.42358 & 0.63\\\\\n",
       "\t5 & 150010 & 2019-05 & Abaetetuba & PA & 31.05354 & 0.00\\\\\n",
       "\t6 & 150010 & 2019-06 & Abaetetuba & PA & 31.17913 & 0.63\\\\\n",
       "\\end{tabular}\n"
      ],
      "text/markdown": [
       "\n",
       "A data.frame: 6 × 6\n",
       "\n",
       "| <!--/--> | cd_mun &lt;chr&gt; | year_month &lt;chr&gt; | nm_mun &lt;chr&gt; | UF &lt;chr&gt; | temperature &lt;dbl&gt; | cases &lt;dbl&gt; |\n",
       "|---|---|---|---|---|---|---|\n",
       "| 1 | 150010 | 2019-01 | Abaetetuba | PA | 31.60663 | 0.00 |\n",
       "| 2 | 150010 | 2019-02 | Abaetetuba | PA | 30.89762 | 0.63 |\n",
       "| 3 | 150010 | 2019-03 | Abaetetuba | PA | 30.43442 | 0.00 |\n",
       "| 4 | 150010 | 2019-04 | Abaetetuba | PA | 30.42358 | 0.63 |\n",
       "| 5 | 150010 | 2019-05 | Abaetetuba | PA | 31.05354 | 0.00 |\n",
       "| 6 | 150010 | 2019-06 | Abaetetuba | PA | 31.17913 | 0.63 |\n",
       "\n"
      ],
      "text/plain": [
       "  cd_mun year_month nm_mun     UF temperature cases\n",
       "1 150010 2019-01    Abaetetuba PA 31.60663    0.00 \n",
       "2 150010 2019-02    Abaetetuba PA 30.89762    0.63 \n",
       "3 150010 2019-03    Abaetetuba PA 30.43442    0.00 \n",
       "4 150010 2019-04    Abaetetuba PA 30.42358    0.63 \n",
       "5 150010 2019-05    Abaetetuba PA 31.05354    0.00 \n",
       "6 150010 2019-06    Abaetetuba PA 31.17913    0.63 "
      ]
     },
     "metadata": {},
     "output_type": "display_data"
    }
   ],
   "source": [
    "# Remove last char of municipality code in temperature data\n",
    "temperature_df2 <- temperature_df %>%\n",
    "    mutate(cd_mun = substr(cd_mun, 1, nchar(cd_mun) - 1))\n",
    "\n",
    "# Merge dataframes\n",
    "merge_dengue_temperature <- merge(dengue_df, temperature_df2, by=c(\"cd_mun\", \"year_month\")) %>%\n",
    "    select(cd_mun, year_month, nm_mun, UF, temperature, cases)\n",
    "\n",
    "dim(merge_dengue_temperature)\n",
    "head(merge_dengue_temperature)"
   ]
  },
  {
   "cell_type": "code",
   "execution_count": 132,
   "metadata": {
    "vscode": {
     "languageId": "r"
    }
   },
   "outputs": [
    {
     "data": {
      "image/png": "[encoded data removed]",
      "text/plain": [
       "plot without title"
      ]
     },
     "metadata": {
      "image/png": {
       "height": 600,
       "width": 600
      }
     },
     "output_type": "display_data"
    }
   ],
   "source": [
    "options(repr.plot.width = 10, repr.plot.height = 10)\n",
    "\n",
    "ggplot(merge_dengue_temperature) + \n",
    "geom_point(aes(x=temperature, y=cases, colour=nm_mun), size=3) + \n",
    "facet_wrap(year_month ~ .) + \n",
    "theme(\n",
    "    legend.position = \"bottom\",\n",
    "    text = element_text(size=22)\n",
    ")"
   ]
  },
  {
   "cell_type": "markdown",
   "metadata": {},
   "source": [
    "## 4.2 NDVI vs. Dengue"
   ]
  },
  {
   "cell_type": "code",
   "execution_count": null,
   "metadata": {
    "vscode": {
     "languageId": "r"
    }
   },
   "outputs": [],
   "source": []
  }
 ],
 "metadata": {
  "kernelspec": {
   "display_name": "R",
   "language": "R",
   "name": "ir"
  },
  "language_info": {
   "codemirror_mode": "r",
   "file_extension": ".r",
   "mimetype": "text/x-r-source",
   "name": "R",
   "pygments_lexer": "r",
   "version": "4.1.2"
  }
 },
 "nbformat": 4,
 "nbformat_minor": 2
}
