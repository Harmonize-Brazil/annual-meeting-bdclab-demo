{
 "cells": [
  {
   "cell_type": "markdown",
   "metadata": {},
   "source": [
    "<img src=\"https://geodecode.com.br/wp-content/uploads/2021/12/brasildatacube.png\" align=\"left\" width=\"74\"/>\n",
    "<img src=\"https://brazil-data-cube.github.io/_images/logo-odc-bdc.png\" align=\"right\" width=\"74\" />\n",
    "\n",
    "<h1 style=\"color:#336699; text-align: center\" >Annual Metting Use Case</h1>\n",
    "<hr style=\"border:2px solid #0077b9;\">\n",
    "\n",
    "<br/>\n",
    "\n",
    "<div style=\"text-align: center;font-size: 90%;\">\n",
    "    <sup>\n",
    "        <a href=\"https://orcid.org/0000-0002-9916-1167\">\n",
    "            <i class=\"fab fa-lg fa-orcid\" style=\"color: #a6ce39\"></i>\n",
    "        </a>\n",
    "    </sup>\n",
    "    <br/>\n",
    "    Brazil Data Cube (BDC), National Institute for Space Research (INPE)\n",
    "    <br/>\n",
    "    <br/>\n",
    "    <br/>\n",
    "    <div style=\"width: 98%;\">\n",
    "        <div style=\"text-align: justify; border-style: solid; border-color: #0077b9; border-width: 1px; padding: 10px;\">\n",
    "            <b>Explantion here....:</b>\n",
    "            <div>\n",
    "                Write write write write writewrite writewrite write. <a href=\"http://www.brazildatacube.org/\" target=\"_blank\">Site site site site site</a>, <i> Outras infos</i> .......\n",
    "            </div>\n",
    "        </div>\n",
    "    </div>\n",
    "</div>"
   ]
  },
  {
   "cell_type": "code",
   "execution_count": 1,
   "metadata": {
    "vscode": {
     "languageId": "r"
    }
   },
   "outputs": [
    {
     "name": "stderr",
     "output_type": "stream",
     "text": [
      "Linking to GEOS 3.10.2, GDAL 3.4.1, PROJ 8.2.1; sf_use_s2() is TRUE\n",
      "\n",
      "\n",
      "Attaching package: ‘dplyr’\n",
      "\n",
      "\n",
      "The following objects are masked from ‘package:stats’:\n",
      "\n",
      "    filter, lag\n",
      "\n",
      "\n",
      "The following objects are masked from ‘package:base’:\n",
      "\n",
      "    intersect, setdiff, setequal, union\n",
      "\n",
      "\n"
     ]
    }
   ],
   "source": [
    "library(sf)\n",
    "library(rstac)\n",
    "library(dplyr)"
   ]
  },
  {
   "cell_type": "markdown",
   "metadata": {},
   "source": [
    "# Set constants\n",
    "<hr style=\"border:1px solid #0077b9;\">"
   ]
  },
  {
   "cell_type": "code",
   "execution_count": 4,
   "metadata": {
    "vscode": {
     "languageId": "r"
    }
   },
   "outputs": [],
   "source": [
    "HARMONIZE_STAC_URL <- 'https://brazildatacube.dpi.inpe.br/harmonize/dev/stac/v1/'\n",
    "\n",
    "\n",
    "START_DATE <- \"2020-01-01\"\n",
    "END_DATE <- \"2020-12-31\"\n",
    "\n",
    "\n",
    "FINAL_CSV_NAME <- \"denguecases_months_2020.csv\""
   ]
  },
  {
   "cell_type": "markdown",
   "metadata": {},
   "source": [
    "# List Harmonize STAC collections (using RSTAC)\n",
    "<hr style=\"border:1px solid #0077b9;\">"
   ]
  },
  {
   "cell_type": "code",
   "execution_count": 9,
   "metadata": {
    "vscode": {
     "languageId": "r"
    }
   },
   "outputs": [
    {
     "name": "stdout",
     "output_type": "stream",
     "text": [
      "[1] \"dengue_mortality_rate_mun_year_north-1\"\n",
      "[1] \"max_temper_mean_ne_mun_month-1\"\n",
      "[1] \"total_prec_max_no_mun_epiweek-1\"\n",
      "[1] \"Phantom3Advanced_FlightHeight120m_Mosaic-1\"\n",
      "[1] \"Phantom3Advanced_FlightHeight120m-1\"\n",
      "[1] \"chagas_disease_cases_mun_week_north-1\"\n",
      "[1] \"max_temper_mean_no_mun_month-1\"\n",
      "[1] \"max_temper_max_no_mun_month-1\"\n",
      "[1] \"max_temper_max_no_mun_epiweek_ras-1\"\n",
      "[1] \"chagas_disease_cases_mun_month_north-1\"\n",
      "[1] \"max_temper_max_ne_mun_epiweek-1\"\n",
      "[1] \"dengue_cases_mun_year_north-1\"\n",
      "[1] \"chikungunya_cases_mun_year_north-1\"\n",
      "[1] \"zika_cases_mun_month_north-1\"\n",
      "[1] \"dengue_cases_mun_month_north-1\"\n",
      "[1] \"chikungunya_cases_mun_month_north-1\"\n",
      "[1] \"dengue_cases_mun_week_north-1\"\n",
      "[1] \"dengue_mortality_rate_mun_month_north-1\"\n",
      "[1] \"max_temper_mean_no_mun_epiweek-1\"\n",
      "[1] \"zika_cases_mun_year_north-1\"\n",
      "[1] \"chagas_disease_cases_mun_year_north-1\"\n",
      "[1] \"zika_cases_mun_week_north-1\"\n",
      "[1] \"total_prec_max_no_mun_month-1\"\n",
      "[1] \"dengue_mortality_rate_mun_week_north-1\"\n",
      "[1] \"chikungunya_cases_mun_week_north-1\"\n",
      "[1] \"total_prec_mean_ne_mun_month-1\"\n",
      "[1] \"max_temper_max_ne_mun_epiweek_ras-1\"\n",
      "[1] \"total_prec_mean_no_mun_month-1\"\n",
      "[1] \"dengue_mortality_rate_mun_year_northeast-1\"\n",
      "[1] \"total_prec_max_ne_mun_epiweek_ras-1\"\n",
      "[1] \"total_prec_max_no_mun_epiweek_ras-1\"\n",
      "[1] \"chikungunya_cases_mun_year_northeast-1\"\n",
      "[1] \"chagas_disease_cases_mun_year_northeast-1\"\n",
      "[1] \"total_prec_max_ne_mun_epiweek-1\"\n",
      "[1] \"total_prec_mean_ne_mun_epiweek-1\"\n",
      "[1] \"dengue_cases_mun_year_northeast-1\"\n",
      "[1] \"max_temper_max_no_mun_epiweek-1\"\n",
      "[1] \"dengue_mortality_rate_mun_month_northeast-1\"\n",
      "[1] \"zika_cases_mun_month_northeast-1\"\n",
      "[1] \"zika_cases_mun_week_northeast-1\"\n",
      "[1] \"max_temper_mean_ne_mun_epiweek-1\"\n",
      "[1] \"dengue_cases_mun_week_northeast-1\"\n",
      "[1] \"zika_cases_mun_year_northeast-1\"\n",
      "[1] \"dengue_cases_mun_month_northeast-1\"\n",
      "[1] \"max_temper_max_ne_mun_month-1\"\n",
      "[1] \"total_prec_max_ne_mun_month-1\"\n",
      "[1] \"total_prec_mean_no_mun_epiweek-1\"\n",
      "[1] \"chikungunya_cases_mun_month_northeast-1\"\n",
      "[1] \"dengue_mortality_rate_mun_week_northeast-1\"\n",
      "[1] \"chagas_disease_cases_mun_month_northeast-1\"\n",
      "[1] \"anomaly_con_max_temper_no_mun_epiweek-1\"\n",
      "[1] \"Mavic3M_FlightHeight120m-1\"\n",
      "[1] \"chikungunya_cases_mun_week_northeast-1\"\n",
      "[1] \"anomaly_con_max_temper_ne_mun_month-1\"\n",
      "[1] \"chagas_disease_cases_mun_week_northeast-1\"\n",
      "[1] \"anomaly_con_max_temper_no_mun_month-1\"\n",
      "[1] \"anomaly_con_max_temper_ne_mun_epiweek-1\"\n"
     ]
    }
   ],
   "source": [
    "all_collections <- stac(HARMONIZE_STAC_URL) %>%\n",
    "  collections() %>%\n",
    "  get_request()\n",
    "\n",
    "for (collection in all_collections$collections){\n",
    "  print(collection$id)\n",
    "}"
   ]
  },
  {
   "cell_type": "markdown",
   "metadata": {},
   "source": []
  },
  {
   "cell_type": "code",
   "execution_count": 2,
   "metadata": {
    "vscode": {
     "languageId": "r"
    }
   },
   "outputs": [],
   "source": []
  },
  {
   "cell_type": "markdown",
   "metadata": {},
   "source": [
    "# Obtain monthly climate data for each municipality\n",
    "<hr style=\"border:1px solid #0077b9;\">"
   ]
  },
  {
   "cell_type": "markdown",
   "metadata": {},
   "source": [
    "### Set collection id (temperature, precipitation, dengue, zika, etc)"
   ]
  },
  {
   "cell_type": "code",
   "execution_count": 10,
   "metadata": {
    "vscode": {
     "languageId": "r"
    }
   },
   "outputs": [],
   "source": [
    "# COLLECTION_ID <- \"max_temper_mean_no_mun_month-1\"\n",
    "# COLLECTION_ID <- \"total_prec_max_no_mun_month-1\"\n",
    "# COLLECTION_ID <- \"total_prec_max_no_mun_epiweek-1\"\n",
    "# COLLECTION_ID <- \"max_temper_mean_no_mun_epiweek-1\"\n",
    "COLLECTION_ID <- \"dengue_cases_mun_month_north-1\"\n",
    "# COLLECTION_ID <- \"dengue_mortality_rate_mun_month_north-1\"\n",
    "# COLLECTION_ID <- \"dengue_cases_mun_week_north-1\"\n",
    "# [1] \"total_prec_max_no_mun_month-1\"\n",
    "# [1] \"total_prec_mean_no_mun_month-1\"\n",
    "# [1] \"total_prec_mean_ne_mun_month-1\"\n",
    "# [1] \"total_prec_max_ne_mun_month-1\"\n"
   ]
  },
  {
   "cell_type": "markdown",
   "metadata": {},
   "source": [
    "### Search climate data on Harmonize STAC (Using RSTAC)"
   ]
  },
  {
   "cell_type": "code",
   "execution_count": 11,
   "metadata": {
    "vscode": {
     "languageId": "r"
    }
   },
   "outputs": [
    {
     "data": {
      "text/html": [
       "<dl>\n",
       "\t<dt>$matched</dt>\n",
       "\t\t<dd>12</dd>\n",
       "\t<dt>$returned</dt>\n",
       "\t\t<dd>12</dd>\n",
       "</dl>\n"
      ],
      "text/latex": [
       "\\begin{description}\n",
       "\\item[\\$matched] 12\n",
       "\\item[\\$returned] 12\n",
       "\\end{description}\n"
      ],
      "text/markdown": [
       "$matched\n",
       ":   12\n",
       "$returned\n",
       ":   12\n",
       "\n",
       "\n"
      ],
      "text/plain": [
       "$matched\n",
       "[1] 12\n",
       "\n",
       "$returned\n",
       "[1] 12\n"
      ]
     },
     "metadata": {},
     "output_type": "display_data"
    }
   ],
   "source": [
    "stac_search <- stac(HARMONIZE_STAC_URL) %>%\n",
    "  stac_search(\n",
    "    collections = COLLECTION_ID,\n",
    "    datetime = paste(START_DATE, END_DATE, sep = \"/\"),\n",
    "    limit = 200\n",
    "  ) %>%\n",
    "  get_request()\n",
    "\n",
    "stac_search$context"
   ]
  },
  {
   "cell_type": "markdown",
   "metadata": {},
   "source": [
    "### For each feature, retrieve geojson as dataframe"
   ]
  },
  {
   "cell_type": "code",
   "execution_count": 13,
   "metadata": {
    "vscode": {
     "languageId": "r"
    }
   },
   "outputs": [
    {
     "name": "stdout",
     "output_type": "stream",
     "text": [
      "[1] \"https://brazildatacube.dpi.inpe.br/harmonize/dev/data/health_indicators/indi_0015/month/municipality/items/2020-12-01/north/dengue_cases_mun_month_north_20201201.geojson\"\n",
      "Reading layer `dengue_cases_mun_month_north_20201201' from data source \n",
      "  `https://brazildatacube.dpi.inpe.br/harmonize/dev/data/health_indicators/indi_0015/month/municipality/items/2020-12-01/north/dengue_cases_mun_month_north_20201201.geojson' \n",
      "  using driver `GeoJSON'\n",
      "Simple feature collection with 21 features and 6 fields\n",
      "Geometry type: POLYGON\n",
      "Dimension:     XY\n",
      "Bounding box:  xmin: -50.9967 ymin: -5.196937 xmax: -48.13749 ymax: -1.019427\n",
      "Geodetic CRS:  WGS 84\n",
      "[1] \"https://brazildatacube.dpi.inpe.br/harmonize/dev/data/health_indicators/indi_0015/month/municipality/items/2020-11-01/north/dengue_cases_mun_month_north_20201101.geojson\"\n",
      "Reading layer `dengue_cases_mun_month_north_20201101' from data source \n",
      "  `https://brazildatacube.dpi.inpe.br/harmonize/dev/data/health_indicators/indi_0015/month/municipality/items/2020-11-01/north/dengue_cases_mun_month_north_20201101.geojson' \n",
      "  using driver `GeoJSON'\n",
      "Simple feature collection with 21 features and 6 fields\n",
      "Geometry type: POLYGON\n",
      "Dimension:     XY\n",
      "Bounding box:  xmin: -50.9967 ymin: -5.196937 xmax: -48.13749 ymax: -1.019427\n",
      "Geodetic CRS:  WGS 84\n",
      "[1] \"https://brazildatacube.dpi.inpe.br/harmonize/dev/data/health_indicators/indi_0015/month/municipality/items/2020-10-01/north/dengue_cases_mun_month_north_20201001.geojson\"\n",
      "Reading layer `dengue_cases_mun_month_north_20201001' from data source \n",
      "  `https://brazildatacube.dpi.inpe.br/harmonize/dev/data/health_indicators/indi_0015/month/municipality/items/2020-10-01/north/dengue_cases_mun_month_north_20201001.geojson' \n",
      "  using driver `GeoJSON'\n",
      "Simple feature collection with 21 features and 6 fields\n",
      "Geometry type: POLYGON\n",
      "Dimension:     XY\n",
      "Bounding box:  xmin: -50.9967 ymin: -5.196937 xmax: -48.13749 ymax: -1.019427\n",
      "Geodetic CRS:  WGS 84\n",
      "[1] \"https://brazildatacube.dpi.inpe.br/harmonize/dev/data/health_indicators/indi_0015/month/municipality/items/2020-09-01/north/dengue_cases_mun_month_north_20200901.geojson\"\n",
      "Reading layer `dengue_cases_mun_month_north_20200901' from data source \n",
      "  `https://brazildatacube.dpi.inpe.br/harmonize/dev/data/health_indicators/indi_0015/month/municipality/items/2020-09-01/north/dengue_cases_mun_month_north_20200901.geojson' \n",
      "  using driver `GeoJSON'\n",
      "Simple feature collection with 21 features and 6 fields\n",
      "Geometry type: POLYGON\n",
      "Dimension:     XY\n",
      "Bounding box:  xmin: -50.9967 ymin: -5.196937 xmax: -48.13749 ymax: -1.019427\n",
      "Geodetic CRS:  WGS 84\n",
      "[1] \"https://brazildatacube.dpi.inpe.br/harmonize/dev/data/health_indicators/indi_0015/month/municipality/items/2020-08-01/north/dengue_cases_mun_month_north_20200801.geojson\"\n",
      "Reading layer `dengue_cases_mun_month_north_20200801' from data source \n",
      "  `https://brazildatacube.dpi.inpe.br/harmonize/dev/data/health_indicators/indi_0015/month/municipality/items/2020-08-01/north/dengue_cases_mun_month_north_20200801.geojson' \n",
      "  using driver `GeoJSON'\n",
      "Simple feature collection with 21 features and 6 fields\n",
      "Geometry type: POLYGON\n",
      "Dimension:     XY\n",
      "Bounding box:  xmin: -50.9967 ymin: -5.196937 xmax: -48.13749 ymax: -1.019427\n",
      "Geodetic CRS:  WGS 84\n",
      "[1] \"https://brazildatacube.dpi.inpe.br/harmonize/dev/data/health_indicators/indi_0015/month/municipality/items/2020-07-01/north/dengue_cases_mun_month_north_20200701.geojson\"\n",
      "Reading layer `dengue_cases_mun_month_north_20200701' from data source \n",
      "  `https://brazildatacube.dpi.inpe.br/harmonize/dev/data/health_indicators/indi_0015/month/municipality/items/2020-07-01/north/dengue_cases_mun_month_north_20200701.geojson' \n",
      "  using driver `GeoJSON'\n",
      "Simple feature collection with 21 features and 6 fields\n",
      "Geometry type: POLYGON\n",
      "Dimension:     XY\n",
      "Bounding box:  xmin: -50.9967 ymin: -5.196937 xmax: -48.13749 ymax: -1.019427\n",
      "Geodetic CRS:  WGS 84\n",
      "[1] \"https://brazildatacube.dpi.inpe.br/harmonize/dev/data/health_indicators/indi_0015/month/municipality/items/2020-06-01/north/dengue_cases_mun_month_north_20200601.geojson\"\n",
      "Reading layer `dengue_cases_mun_month_north_20200601' from data source \n",
      "  `https://brazildatacube.dpi.inpe.br/harmonize/dev/data/health_indicators/indi_0015/month/municipality/items/2020-06-01/north/dengue_cases_mun_month_north_20200601.geojson' \n",
      "  using driver `GeoJSON'\n",
      "Simple feature collection with 21 features and 6 fields\n",
      "Geometry type: POLYGON\n",
      "Dimension:     XY\n",
      "Bounding box:  xmin: -50.9967 ymin: -5.196937 xmax: -48.13749 ymax: -1.019427\n",
      "Geodetic CRS:  WGS 84\n",
      "[1] \"https://brazildatacube.dpi.inpe.br/harmonize/dev/data/health_indicators/indi_0015/month/municipality/items/2020-05-01/north/dengue_cases_mun_month_north_20200501.geojson\"\n",
      "Reading layer `dengue_cases_mun_month_north_20200501' from data source \n",
      "  `https://brazildatacube.dpi.inpe.br/harmonize/dev/data/health_indicators/indi_0015/month/municipality/items/2020-05-01/north/dengue_cases_mun_month_north_20200501.geojson' \n",
      "  using driver `GeoJSON'\n",
      "Simple feature collection with 21 features and 6 fields\n",
      "Geometry type: POLYGON\n",
      "Dimension:     XY\n",
      "Bounding box:  xmin: -50.9967 ymin: -5.196937 xmax: -48.13749 ymax: -1.019427\n",
      "Geodetic CRS:  WGS 84\n",
      "[1] \"https://brazildatacube.dpi.inpe.br/harmonize/dev/data/health_indicators/indi_0015/month/municipality/items/2020-04-01/north/dengue_cases_mun_month_north_20200401.geojson\"\n",
      "Reading layer `dengue_cases_mun_month_north_20200401' from data source \n",
      "  `https://brazildatacube.dpi.inpe.br/harmonize/dev/data/health_indicators/indi_0015/month/municipality/items/2020-04-01/north/dengue_cases_mun_month_north_20200401.geojson' \n",
      "  using driver `GeoJSON'\n",
      "Simple feature collection with 21 features and 6 fields\n",
      "Geometry type: POLYGON\n",
      "Dimension:     XY\n",
      "Bounding box:  xmin: -50.9967 ymin: -5.196937 xmax: -48.13749 ymax: -1.019427\n",
      "Geodetic CRS:  WGS 84\n",
      "[1] \"https://brazildatacube.dpi.inpe.br/harmonize/dev/data/health_indicators/indi_0015/month/municipality/items/2020-03-01/north/dengue_cases_mun_month_north_20200301.geojson\"\n",
      "Reading layer `dengue_cases_mun_month_north_20200301' from data source \n",
      "  `https://brazildatacube.dpi.inpe.br/harmonize/dev/data/health_indicators/indi_0015/month/municipality/items/2020-03-01/north/dengue_cases_mun_month_north_20200301.geojson' \n",
      "  using driver `GeoJSON'\n",
      "Simple feature collection with 21 features and 6 fields\n",
      "Geometry type: POLYGON\n",
      "Dimension:     XY\n",
      "Bounding box:  xmin: -50.9967 ymin: -5.196937 xmax: -48.13749 ymax: -1.019427\n",
      "Geodetic CRS:  WGS 84\n",
      "[1] \"https://brazildatacube.dpi.inpe.br/harmonize/dev/data/health_indicators/indi_0015/month/municipality/items/2020-02-01/north/dengue_cases_mun_month_north_20200201.geojson\"\n",
      "Reading layer `dengue_cases_mun_month_north_20200201' from data source \n",
      "  `https://brazildatacube.dpi.inpe.br/harmonize/dev/data/health_indicators/indi_0015/month/municipality/items/2020-02-01/north/dengue_cases_mun_month_north_20200201.geojson' \n",
      "  using driver `GeoJSON'\n",
      "Simple feature collection with 21 features and 6 fields\n",
      "Geometry type: POLYGON\n",
      "Dimension:     XY\n",
      "Bounding box:  xmin: -50.9967 ymin: -5.196937 xmax: -48.13749 ymax: -1.019427\n",
      "Geodetic CRS:  WGS 84\n",
      "[1] \"https://brazildatacube.dpi.inpe.br/harmonize/dev/data/health_indicators/indi_0015/month/municipality/items/2020-01-01/north/dengue_cases_mun_month_north_20200101.geojson\"\n",
      "Reading layer `dengue_cases_mun_month_north_20200101' from data source \n",
      "  `https://brazildatacube.dpi.inpe.br/harmonize/dev/data/health_indicators/indi_0015/month/municipality/items/2020-01-01/north/dengue_cases_mun_month_north_20200101.geojson' \n",
      "  using driver `GeoJSON'\n",
      "Simple feature collection with 21 features and 6 fields\n",
      "Geometry type: POLYGON\n",
      "Dimension:     XY\n",
      "Bounding box:  xmin: -50.9967 ymin: -5.196937 xmax: -48.13749 ymax: -1.019427\n",
      "Geodetic CRS:  WGS 84\n"
     ]
    },
    {
     "data": {
      "text/html": [
       "<ol>\n",
       "\t<li><table class=\"dataframe\">\n",
       "<caption>A data.frame: 21 × 7</caption>\n",
       "<thead>\n",
       "\t<tr><th scope=col>cod</th><th scope=col>date</th><th scope=col>name</th><th scope=col>agg</th><th scope=col>agg_time</th><th scope=col>value</th><th scope=col>geometry</th></tr>\n",
       "\t<tr><th scope=col>&lt;chr&gt;</th><th scope=col>&lt;chr&gt;</th><th scope=col>&lt;chr&gt;</th><th scope=col>&lt;chr&gt;</th><th scope=col>&lt;chr&gt;</th><th scope=col>&lt;chr&gt;</th><th scope=col>&lt;POLYGON [°]&gt;</th></tr>\n",
       "</thead>\n",
       "<tbody>\n",
       "\t<tr><td>150010</td><td>2020-12-01</td><td>indi_0015</td><td>mun_res</td><td>month</td><td>0.0 </td><td>POLYGON ((-48.91969 -1.9472...</td></tr>\n",
       "\t<tr><td>150080</td><td>2020-12-01</td><td>indi_0015</td><td>mun_res</td><td>month</td><td>0.0 </td><td>POLYGON ((-48.39812 -1.3927...</td></tr>\n",
       "\t<tr><td>150110</td><td>2020-12-01</td><td>indi_0015</td><td>mun_res</td><td>month</td><td>0.0 </td><td>POLYGON ((-49.94238 -2.7575...</td></tr>\n",
       "\t<tr><td>150120</td><td>2020-12-01</td><td>indi_0015</td><td>mun_res</td><td>month</td><td>0.0 </td><td>POLYGON ((-49.55923 -2.9383...</td></tr>\n",
       "\t<tr><td>150130</td><td>2020-12-01</td><td>indi_0015</td><td>mun_res</td><td>month</td><td>0.79</td><td>POLYGON ((-48.66029 -1.6923...</td></tr>\n",
       "\t<tr><td>150140</td><td>2020-12-01</td><td>indi_0015</td><td>mun_res</td><td>month</td><td>1.47</td><td>POLYGON ((-48.52311 -1.3820...</td></tr>\n",
       "\t<tr><td>150150</td><td>2020-12-01</td><td>indi_0015</td><td>mun_res</td><td>month</td><td>0.0 </td><td>POLYGON ((-48.28103 -1.3827...</td></tr>\n",
       "\t<tr><td>150178</td><td>2020-12-01</td><td>indi_0015</td><td>mun_res</td><td>month</td><td>0.0 </td><td>POLYGON ((-49.23882 -4.0763...</td></tr>\n",
       "\t<tr><td>150210</td><td>2020-12-01</td><td>indi_0015</td><td>mun_res</td><td>month</td><td>0.0 </td><td>POLYGON ((-49.26145 -2.0259...</td></tr>\n",
       "\t<tr><td>150309</td><td>2020-12-01</td><td>indi_0015</td><td>mun_res</td><td>month</td><td>0.0 </td><td>POLYGON ((-49.50821 -4.3794...</td></tr>\n",
       "\t<tr><td>150330</td><td>2020-12-01</td><td>indi_0015</td><td>mun_res</td><td>month</td><td>0.0 </td><td>POLYGON ((-48.91996 -1.9469...</td></tr>\n",
       "\t<tr><td>150380</td><td>2020-12-01</td><td>indi_0015</td><td>mun_res</td><td>month</td><td>0.0 </td><td>POLYGON ((-49.01793 -4.3860...</td></tr>\n",
       "\t<tr><td>150400</td><td>2020-12-01</td><td>indi_0015</td><td>mun_res</td><td>month</td><td>0.0 </td><td>POLYGON ((-49.25379 -1.8890...</td></tr>\n",
       "\t<tr><td>150442</td><td>2020-12-01</td><td>indi_0015</td><td>mun_res</td><td>month</td><td>0.0 </td><td>POLYGON ((-48.36375 -1.4013...</td></tr>\n",
       "\t<tr><td>150460</td><td>2020-12-01</td><td>indi_0015</td><td>mun_res</td><td>month</td><td>0.0 </td><td>POLYGON ((-49.37943 -2.5219...</td></tr>\n",
       "\t<tr><td>150470</td><td>2020-12-01</td><td>indi_0015</td><td>mun_res</td><td>month</td><td>0.0 </td><td>POLYGON ((-48.469 -1.857771...</td></tr>\n",
       "\t<tr><td>150506</td><td>2020-12-01</td><td>indi_0015</td><td>mun_res</td><td>month</td><td>0.0 </td><td>POLYGON ((-49.4955 -4.48834...</td></tr>\n",
       "\t<tr><td>150520</td><td>2020-12-01</td><td>indi_0015</td><td>mun_res</td><td>month</td><td>0.0 </td><td>POLYGON ((-49.78717 -2.7594...</td></tr>\n",
       "\t<tr><td>150635</td><td>2020-12-01</td><td>indi_0015</td><td>mun_res</td><td>month</td><td>0.0 </td><td>POLYGON ((-48.25093 -1.2863...</td></tr>\n",
       "\t<tr><td>150795</td><td>2020-12-01</td><td>indi_0015</td><td>mun_res</td><td>month</td><td>0.0 </td><td>POLYGON ((-48.94729 -3.0860...</td></tr>\n",
       "\t<tr><td>150810</td><td>2020-12-01</td><td>indi_0015</td><td>mun_res</td><td>month</td><td>0.0 </td><td>POLYGON ((-49.66027 -3.7443...</td></tr>\n",
       "</tbody>\n",
       "</table>\n",
       "</li>\n",
       "\t<li><table class=\"dataframe\">\n",
       "<caption>A data.frame: 21 × 7</caption>\n",
       "<thead>\n",
       "\t<tr><th scope=col>cod</th><th scope=col>date</th><th scope=col>name</th><th scope=col>agg</th><th scope=col>agg_time</th><th scope=col>value</th><th scope=col>geometry</th></tr>\n",
       "\t<tr><th scope=col>&lt;chr&gt;</th><th scope=col>&lt;chr&gt;</th><th scope=col>&lt;chr&gt;</th><th scope=col>&lt;chr&gt;</th><th scope=col>&lt;chr&gt;</th><th scope=col>&lt;chr&gt;</th><th scope=col>&lt;POLYGON [°]&gt;</th></tr>\n",
       "</thead>\n",
       "<tbody>\n",
       "\t<tr><td>150010</td><td>2020-11-01</td><td>indi_0015</td><td>mun_res</td><td>month</td><td>0.0 </td><td>POLYGON ((-48.91969 -1.9472...</td></tr>\n",
       "\t<tr><td>150080</td><td>2020-11-01</td><td>indi_0015</td><td>mun_res</td><td>month</td><td>0.0 </td><td>POLYGON ((-48.39812 -1.3927...</td></tr>\n",
       "\t<tr><td>150110</td><td>2020-11-01</td><td>indi_0015</td><td>mun_res</td><td>month</td><td>0.0 </td><td>POLYGON ((-49.94238 -2.7575...</td></tr>\n",
       "\t<tr><td>150120</td><td>2020-11-01</td><td>indi_0015</td><td>mun_res</td><td>month</td><td>0.0 </td><td>POLYGON ((-49.55923 -2.9383...</td></tr>\n",
       "\t<tr><td>150130</td><td>2020-11-01</td><td>indi_0015</td><td>mun_res</td><td>month</td><td>0.0 </td><td>POLYGON ((-48.66029 -1.6923...</td></tr>\n",
       "\t<tr><td>150140</td><td>2020-11-01</td><td>indi_0015</td><td>mun_res</td><td>month</td><td>1.27</td><td>POLYGON ((-48.52311 -1.3820...</td></tr>\n",
       "\t<tr><td>150150</td><td>2020-11-01</td><td>indi_0015</td><td>mun_res</td><td>month</td><td>0.0 </td><td>POLYGON ((-48.28103 -1.3827...</td></tr>\n",
       "\t<tr><td>150178</td><td>2020-11-01</td><td>indi_0015</td><td>mun_res</td><td>month</td><td>0.0 </td><td>POLYGON ((-49.23882 -4.0763...</td></tr>\n",
       "\t<tr><td>150210</td><td>2020-11-01</td><td>indi_0015</td><td>mun_res</td><td>month</td><td>0.0 </td><td>POLYGON ((-49.26145 -2.0259...</td></tr>\n",
       "\t<tr><td>150309</td><td>2020-11-01</td><td>indi_0015</td><td>mun_res</td><td>month</td><td>0.0 </td><td>POLYGON ((-49.50821 -4.3794...</td></tr>\n",
       "\t<tr><td>150330</td><td>2020-11-01</td><td>indi_0015</td><td>mun_res</td><td>month</td><td>0.0 </td><td>POLYGON ((-48.91996 -1.9469...</td></tr>\n",
       "\t<tr><td>150380</td><td>2020-11-01</td><td>indi_0015</td><td>mun_res</td><td>month</td><td>0.0 </td><td>POLYGON ((-49.01793 -4.3860...</td></tr>\n",
       "\t<tr><td>150400</td><td>2020-11-01</td><td>indi_0015</td><td>mun_res</td><td>month</td><td>0.0 </td><td>POLYGON ((-49.25379 -1.8890...</td></tr>\n",
       "\t<tr><td>150442</td><td>2020-11-01</td><td>indi_0015</td><td>mun_res</td><td>month</td><td>0.75</td><td>POLYGON ((-48.36375 -1.4013...</td></tr>\n",
       "\t<tr><td>150460</td><td>2020-11-01</td><td>indi_0015</td><td>mun_res</td><td>month</td><td>0.0 </td><td>POLYGON ((-49.37943 -2.5219...</td></tr>\n",
       "\t<tr><td>150470</td><td>2020-11-01</td><td>indi_0015</td><td>mun_res</td><td>month</td><td>0.0 </td><td>POLYGON ((-48.469 -1.857771...</td></tr>\n",
       "\t<tr><td>150506</td><td>2020-11-01</td><td>indi_0015</td><td>mun_res</td><td>month</td><td>0.0 </td><td>POLYGON ((-49.4955 -4.48834...</td></tr>\n",
       "\t<tr><td>150520</td><td>2020-11-01</td><td>indi_0015</td><td>mun_res</td><td>month</td><td>0.0 </td><td>POLYGON ((-49.78717 -2.7594...</td></tr>\n",
       "\t<tr><td>150635</td><td>2020-11-01</td><td>indi_0015</td><td>mun_res</td><td>month</td><td>0.0 </td><td>POLYGON ((-48.25093 -1.2863...</td></tr>\n",
       "\t<tr><td>150795</td><td>2020-11-01</td><td>indi_0015</td><td>mun_res</td><td>month</td><td>0.0 </td><td>POLYGON ((-48.94729 -3.0860...</td></tr>\n",
       "\t<tr><td>150810</td><td>2020-11-01</td><td>indi_0015</td><td>mun_res</td><td>month</td><td>0.0 </td><td>POLYGON ((-49.66027 -3.7443...</td></tr>\n",
       "</tbody>\n",
       "</table>\n",
       "</li>\n",
       "</ol>\n"
      ],
      "text/latex": [
       "\\begin{enumerate}\n",
       "\\item A data.frame: 21 × 7\n",
       "\\begin{tabular}{lllllll}\n",
       " cod & date & name & agg & agg\\_time & value & geometry\\\\\n",
       " <chr> & <chr> & <chr> & <chr> & <chr> & <chr> & <POLYGON {[}°{]}>\\\\\n",
       "\\hline\n",
       "\t 150010 & 2020-12-01 & indi\\_0015 & mun\\_res & month & 0.0  & POLYGON ((-48.91969 -1.9472...\\\\\n",
       "\t 150080 & 2020-12-01 & indi\\_0015 & mun\\_res & month & 0.0  & POLYGON ((-48.39812 -1.3927...\\\\\n",
       "\t 150110 & 2020-12-01 & indi\\_0015 & mun\\_res & month & 0.0  & POLYGON ((-49.94238 -2.7575...\\\\\n",
       "\t 150120 & 2020-12-01 & indi\\_0015 & mun\\_res & month & 0.0  & POLYGON ((-49.55923 -2.9383...\\\\\n",
       "\t 150130 & 2020-12-01 & indi\\_0015 & mun\\_res & month & 0.79 & POLYGON ((-48.66029 -1.6923...\\\\\n",
       "\t 150140 & 2020-12-01 & indi\\_0015 & mun\\_res & month & 1.47 & POLYGON ((-48.52311 -1.3820...\\\\\n",
       "\t 150150 & 2020-12-01 & indi\\_0015 & mun\\_res & month & 0.0  & POLYGON ((-48.28103 -1.3827...\\\\\n",
       "\t 150178 & 2020-12-01 & indi\\_0015 & mun\\_res & month & 0.0  & POLYGON ((-49.23882 -4.0763...\\\\\n",
       "\t 150210 & 2020-12-01 & indi\\_0015 & mun\\_res & month & 0.0  & POLYGON ((-49.26145 -2.0259...\\\\\n",
       "\t 150309 & 2020-12-01 & indi\\_0015 & mun\\_res & month & 0.0  & POLYGON ((-49.50821 -4.3794...\\\\\n",
       "\t 150330 & 2020-12-01 & indi\\_0015 & mun\\_res & month & 0.0  & POLYGON ((-48.91996 -1.9469...\\\\\n",
       "\t 150380 & 2020-12-01 & indi\\_0015 & mun\\_res & month & 0.0  & POLYGON ((-49.01793 -4.3860...\\\\\n",
       "\t 150400 & 2020-12-01 & indi\\_0015 & mun\\_res & month & 0.0  & POLYGON ((-49.25379 -1.8890...\\\\\n",
       "\t 150442 & 2020-12-01 & indi\\_0015 & mun\\_res & month & 0.0  & POLYGON ((-48.36375 -1.4013...\\\\\n",
       "\t 150460 & 2020-12-01 & indi\\_0015 & mun\\_res & month & 0.0  & POLYGON ((-49.37943 -2.5219...\\\\\n",
       "\t 150470 & 2020-12-01 & indi\\_0015 & mun\\_res & month & 0.0  & POLYGON ((-48.469 -1.857771...\\\\\n",
       "\t 150506 & 2020-12-01 & indi\\_0015 & mun\\_res & month & 0.0  & POLYGON ((-49.4955 -4.48834...\\\\\n",
       "\t 150520 & 2020-12-01 & indi\\_0015 & mun\\_res & month & 0.0  & POLYGON ((-49.78717 -2.7594...\\\\\n",
       "\t 150635 & 2020-12-01 & indi\\_0015 & mun\\_res & month & 0.0  & POLYGON ((-48.25093 -1.2863...\\\\\n",
       "\t 150795 & 2020-12-01 & indi\\_0015 & mun\\_res & month & 0.0  & POLYGON ((-48.94729 -3.0860...\\\\\n",
       "\t 150810 & 2020-12-01 & indi\\_0015 & mun\\_res & month & 0.0  & POLYGON ((-49.66027 -3.7443...\\\\\n",
       "\\end{tabular}\n",
       "\n",
       "\\item A data.frame: 21 × 7\n",
       "\\begin{tabular}{lllllll}\n",
       " cod & date & name & agg & agg\\_time & value & geometry\\\\\n",
       " <chr> & <chr> & <chr> & <chr> & <chr> & <chr> & <POLYGON {[}°{]}>\\\\\n",
       "\\hline\n",
       "\t 150010 & 2020-11-01 & indi\\_0015 & mun\\_res & month & 0.0  & POLYGON ((-48.91969 -1.9472...\\\\\n",
       "\t 150080 & 2020-11-01 & indi\\_0015 & mun\\_res & month & 0.0  & POLYGON ((-48.39812 -1.3927...\\\\\n",
       "\t 150110 & 2020-11-01 & indi\\_0015 & mun\\_res & month & 0.0  & POLYGON ((-49.94238 -2.7575...\\\\\n",
       "\t 150120 & 2020-11-01 & indi\\_0015 & mun\\_res & month & 0.0  & POLYGON ((-49.55923 -2.9383...\\\\\n",
       "\t 150130 & 2020-11-01 & indi\\_0015 & mun\\_res & month & 0.0  & POLYGON ((-48.66029 -1.6923...\\\\\n",
       "\t 150140 & 2020-11-01 & indi\\_0015 & mun\\_res & month & 1.27 & POLYGON ((-48.52311 -1.3820...\\\\\n",
       "\t 150150 & 2020-11-01 & indi\\_0015 & mun\\_res & month & 0.0  & POLYGON ((-48.28103 -1.3827...\\\\\n",
       "\t 150178 & 2020-11-01 & indi\\_0015 & mun\\_res & month & 0.0  & POLYGON ((-49.23882 -4.0763...\\\\\n",
       "\t 150210 & 2020-11-01 & indi\\_0015 & mun\\_res & month & 0.0  & POLYGON ((-49.26145 -2.0259...\\\\\n",
       "\t 150309 & 2020-11-01 & indi\\_0015 & mun\\_res & month & 0.0  & POLYGON ((-49.50821 -4.3794...\\\\\n",
       "\t 150330 & 2020-11-01 & indi\\_0015 & mun\\_res & month & 0.0  & POLYGON ((-48.91996 -1.9469...\\\\\n",
       "\t 150380 & 2020-11-01 & indi\\_0015 & mun\\_res & month & 0.0  & POLYGON ((-49.01793 -4.3860...\\\\\n",
       "\t 150400 & 2020-11-01 & indi\\_0015 & mun\\_res & month & 0.0  & POLYGON ((-49.25379 -1.8890...\\\\\n",
       "\t 150442 & 2020-11-01 & indi\\_0015 & mun\\_res & month & 0.75 & POLYGON ((-48.36375 -1.4013...\\\\\n",
       "\t 150460 & 2020-11-01 & indi\\_0015 & mun\\_res & month & 0.0  & POLYGON ((-49.37943 -2.5219...\\\\\n",
       "\t 150470 & 2020-11-01 & indi\\_0015 & mun\\_res & month & 0.0  & POLYGON ((-48.469 -1.857771...\\\\\n",
       "\t 150506 & 2020-11-01 & indi\\_0015 & mun\\_res & month & 0.0  & POLYGON ((-49.4955 -4.48834...\\\\\n",
       "\t 150520 & 2020-11-01 & indi\\_0015 & mun\\_res & month & 0.0  & POLYGON ((-49.78717 -2.7594...\\\\\n",
       "\t 150635 & 2020-11-01 & indi\\_0015 & mun\\_res & month & 0.0  & POLYGON ((-48.25093 -1.2863...\\\\\n",
       "\t 150795 & 2020-11-01 & indi\\_0015 & mun\\_res & month & 0.0  & POLYGON ((-48.94729 -3.0860...\\\\\n",
       "\t 150810 & 2020-11-01 & indi\\_0015 & mun\\_res & month & 0.0  & POLYGON ((-49.66027 -3.7443...\\\\\n",
       "\\end{tabular}\n",
       "\n",
       "\\end{enumerate}\n"
      ],
      "text/markdown": [
       "1. \n",
       "A data.frame: 21 × 7\n",
       "\n",
       "| cod &lt;chr&gt; | date &lt;chr&gt; | name &lt;chr&gt; | agg &lt;chr&gt; | agg_time &lt;chr&gt; | value &lt;chr&gt; | geometry &lt;POLYGON [°]&gt; |\n",
       "|---|---|---|---|---|---|---|\n",
       "| 150010 | 2020-12-01 | indi_0015 | mun_res | month | 0.0  | POLYGON ((-48.91969 -1.9472... |\n",
       "| 150080 | 2020-12-01 | indi_0015 | mun_res | month | 0.0  | POLYGON ((-48.39812 -1.3927... |\n",
       "| 150110 | 2020-12-01 | indi_0015 | mun_res | month | 0.0  | POLYGON ((-49.94238 -2.7575... |\n",
       "| 150120 | 2020-12-01 | indi_0015 | mun_res | month | 0.0  | POLYGON ((-49.55923 -2.9383... |\n",
       "| 150130 | 2020-12-01 | indi_0015 | mun_res | month | 0.79 | POLYGON ((-48.66029 -1.6923... |\n",
       "| 150140 | 2020-12-01 | indi_0015 | mun_res | month | 1.47 | POLYGON ((-48.52311 -1.3820... |\n",
       "| 150150 | 2020-12-01 | indi_0015 | mun_res | month | 0.0  | POLYGON ((-48.28103 -1.3827... |\n",
       "| 150178 | 2020-12-01 | indi_0015 | mun_res | month | 0.0  | POLYGON ((-49.23882 -4.0763... |\n",
       "| 150210 | 2020-12-01 | indi_0015 | mun_res | month | 0.0  | POLYGON ((-49.26145 -2.0259... |\n",
       "| 150309 | 2020-12-01 | indi_0015 | mun_res | month | 0.0  | POLYGON ((-49.50821 -4.3794... |\n",
       "| 150330 | 2020-12-01 | indi_0015 | mun_res | month | 0.0  | POLYGON ((-48.91996 -1.9469... |\n",
       "| 150380 | 2020-12-01 | indi_0015 | mun_res | month | 0.0  | POLYGON ((-49.01793 -4.3860... |\n",
       "| 150400 | 2020-12-01 | indi_0015 | mun_res | month | 0.0  | POLYGON ((-49.25379 -1.8890... |\n",
       "| 150442 | 2020-12-01 | indi_0015 | mun_res | month | 0.0  | POLYGON ((-48.36375 -1.4013... |\n",
       "| 150460 | 2020-12-01 | indi_0015 | mun_res | month | 0.0  | POLYGON ((-49.37943 -2.5219... |\n",
       "| 150470 | 2020-12-01 | indi_0015 | mun_res | month | 0.0  | POLYGON ((-48.469 -1.857771... |\n",
       "| 150506 | 2020-12-01 | indi_0015 | mun_res | month | 0.0  | POLYGON ((-49.4955 -4.48834... |\n",
       "| 150520 | 2020-12-01 | indi_0015 | mun_res | month | 0.0  | POLYGON ((-49.78717 -2.7594... |\n",
       "| 150635 | 2020-12-01 | indi_0015 | mun_res | month | 0.0  | POLYGON ((-48.25093 -1.2863... |\n",
       "| 150795 | 2020-12-01 | indi_0015 | mun_res | month | 0.0  | POLYGON ((-48.94729 -3.0860... |\n",
       "| 150810 | 2020-12-01 | indi_0015 | mun_res | month | 0.0  | POLYGON ((-49.66027 -3.7443... |\n",
       "\n",
       "\n",
       "2. \n",
       "A data.frame: 21 × 7\n",
       "\n",
       "| cod &lt;chr&gt; | date &lt;chr&gt; | name &lt;chr&gt; | agg &lt;chr&gt; | agg_time &lt;chr&gt; | value &lt;chr&gt; | geometry &lt;POLYGON [°]&gt; |\n",
       "|---|---|---|---|---|---|---|\n",
       "| 150010 | 2020-11-01 | indi_0015 | mun_res | month | 0.0  | POLYGON ((-48.91969 -1.9472... |\n",
       "| 150080 | 2020-11-01 | indi_0015 | mun_res | month | 0.0  | POLYGON ((-48.39812 -1.3927... |\n",
       "| 150110 | 2020-11-01 | indi_0015 | mun_res | month | 0.0  | POLYGON ((-49.94238 -2.7575... |\n",
       "| 150120 | 2020-11-01 | indi_0015 | mun_res | month | 0.0  | POLYGON ((-49.55923 -2.9383... |\n",
       "| 150130 | 2020-11-01 | indi_0015 | mun_res | month | 0.0  | POLYGON ((-48.66029 -1.6923... |\n",
       "| 150140 | 2020-11-01 | indi_0015 | mun_res | month | 1.27 | POLYGON ((-48.52311 -1.3820... |\n",
       "| 150150 | 2020-11-01 | indi_0015 | mun_res | month | 0.0  | POLYGON ((-48.28103 -1.3827... |\n",
       "| 150178 | 2020-11-01 | indi_0015 | mun_res | month | 0.0  | POLYGON ((-49.23882 -4.0763... |\n",
       "| 150210 | 2020-11-01 | indi_0015 | mun_res | month | 0.0  | POLYGON ((-49.26145 -2.0259... |\n",
       "| 150309 | 2020-11-01 | indi_0015 | mun_res | month | 0.0  | POLYGON ((-49.50821 -4.3794... |\n",
       "| 150330 | 2020-11-01 | indi_0015 | mun_res | month | 0.0  | POLYGON ((-48.91996 -1.9469... |\n",
       "| 150380 | 2020-11-01 | indi_0015 | mun_res | month | 0.0  | POLYGON ((-49.01793 -4.3860... |\n",
       "| 150400 | 2020-11-01 | indi_0015 | mun_res | month | 0.0  | POLYGON ((-49.25379 -1.8890... |\n",
       "| 150442 | 2020-11-01 | indi_0015 | mun_res | month | 0.75 | POLYGON ((-48.36375 -1.4013... |\n",
       "| 150460 | 2020-11-01 | indi_0015 | mun_res | month | 0.0  | POLYGON ((-49.37943 -2.5219... |\n",
       "| 150470 | 2020-11-01 | indi_0015 | mun_res | month | 0.0  | POLYGON ((-48.469 -1.857771... |\n",
       "| 150506 | 2020-11-01 | indi_0015 | mun_res | month | 0.0  | POLYGON ((-49.4955 -4.48834... |\n",
       "| 150520 | 2020-11-01 | indi_0015 | mun_res | month | 0.0  | POLYGON ((-49.78717 -2.7594... |\n",
       "| 150635 | 2020-11-01 | indi_0015 | mun_res | month | 0.0  | POLYGON ((-48.25093 -1.2863... |\n",
       "| 150795 | 2020-11-01 | indi_0015 | mun_res | month | 0.0  | POLYGON ((-48.94729 -3.0860... |\n",
       "| 150810 | 2020-11-01 | indi_0015 | mun_res | month | 0.0  | POLYGON ((-49.66027 -3.7443... |\n",
       "\n",
       "\n",
       "\n",
       "\n"
      ],
      "text/plain": [
       "[[1]]\n",
       "      cod       date      name     agg agg_time value\n",
       "1  150010 2020-12-01 indi_0015 mun_res    month   0.0\n",
       "2  150080 2020-12-01 indi_0015 mun_res    month   0.0\n",
       "3  150110 2020-12-01 indi_0015 mun_res    month   0.0\n",
       "4  150120 2020-12-01 indi_0015 mun_res    month   0.0\n",
       "5  150130 2020-12-01 indi_0015 mun_res    month  0.79\n",
       "6  150140 2020-12-01 indi_0015 mun_res    month  1.47\n",
       "7  150150 2020-12-01 indi_0015 mun_res    month   0.0\n",
       "8  150178 2020-12-01 indi_0015 mun_res    month   0.0\n",
       "9  150210 2020-12-01 indi_0015 mun_res    month   0.0\n",
       "10 150309 2020-12-01 indi_0015 mun_res    month   0.0\n",
       "11 150330 2020-12-01 indi_0015 mun_res    month   0.0\n",
       "12 150380 2020-12-01 indi_0015 mun_res    month   0.0\n",
       "13 150400 2020-12-01 indi_0015 mun_res    month   0.0\n",
       "14 150442 2020-12-01 indi_0015 mun_res    month   0.0\n",
       "15 150460 2020-12-01 indi_0015 mun_res    month   0.0\n",
       "16 150470 2020-12-01 indi_0015 mun_res    month   0.0\n",
       "17 150506 2020-12-01 indi_0015 mun_res    month   0.0\n",
       "18 150520 2020-12-01 indi_0015 mun_res    month   0.0\n",
       "19 150635 2020-12-01 indi_0015 mun_res    month   0.0\n",
       "20 150795 2020-12-01 indi_0015 mun_res    month   0.0\n",
       "21 150810 2020-12-01 indi_0015 mun_res    month   0.0\n",
       "                         geometry\n",
       "1  POLYGON ((-48.91969 -1.9472...\n",
       "2  POLYGON ((-48.39812 -1.3927...\n",
       "3  POLYGON ((-49.94238 -2.7575...\n",
       "4  POLYGON ((-49.55923 -2.9383...\n",
       "5  POLYGON ((-48.66029 -1.6923...\n",
       "6  POLYGON ((-48.52311 -1.3820...\n",
       "7  POLYGON ((-48.28103 -1.3827...\n",
       "8  POLYGON ((-49.23882 -4.0763...\n",
       "9  POLYGON ((-49.26145 -2.0259...\n",
       "10 POLYGON ((-49.50821 -4.3794...\n",
       "11 POLYGON ((-48.91996 -1.9469...\n",
       "12 POLYGON ((-49.01793 -4.3860...\n",
       "13 POLYGON ((-49.25379 -1.8890...\n",
       "14 POLYGON ((-48.36375 -1.4013...\n",
       "15 POLYGON ((-49.37943 -2.5219...\n",
       "16 POLYGON ((-48.469 -1.857771...\n",
       "17 POLYGON ((-49.4955 -4.48834...\n",
       "18 POLYGON ((-49.78717 -2.7594...\n",
       "19 POLYGON ((-48.25093 -1.2863...\n",
       "20 POLYGON ((-48.94729 -3.0860...\n",
       "21 POLYGON ((-49.66027 -3.7443...\n",
       "\n",
       "[[2]]\n",
       "      cod       date      name     agg agg_time value\n",
       "1  150010 2020-11-01 indi_0015 mun_res    month   0.0\n",
       "2  150080 2020-11-01 indi_0015 mun_res    month   0.0\n",
       "3  150110 2020-11-01 indi_0015 mun_res    month   0.0\n",
       "4  150120 2020-11-01 indi_0015 mun_res    month   0.0\n",
       "5  150130 2020-11-01 indi_0015 mun_res    month   0.0\n",
       "6  150140 2020-11-01 indi_0015 mun_res    month  1.27\n",
       "7  150150 2020-11-01 indi_0015 mun_res    month   0.0\n",
       "8  150178 2020-11-01 indi_0015 mun_res    month   0.0\n",
       "9  150210 2020-11-01 indi_0015 mun_res    month   0.0\n",
       "10 150309 2020-11-01 indi_0015 mun_res    month   0.0\n",
       "11 150330 2020-11-01 indi_0015 mun_res    month   0.0\n",
       "12 150380 2020-11-01 indi_0015 mun_res    month   0.0\n",
       "13 150400 2020-11-01 indi_0015 mun_res    month   0.0\n",
       "14 150442 2020-11-01 indi_0015 mun_res    month  0.75\n",
       "15 150460 2020-11-01 indi_0015 mun_res    month   0.0\n",
       "16 150470 2020-11-01 indi_0015 mun_res    month   0.0\n",
       "17 150506 2020-11-01 indi_0015 mun_res    month   0.0\n",
       "18 150520 2020-11-01 indi_0015 mun_res    month   0.0\n",
       "19 150635 2020-11-01 indi_0015 mun_res    month   0.0\n",
       "20 150795 2020-11-01 indi_0015 mun_res    month   0.0\n",
       "21 150810 2020-11-01 indi_0015 mun_res    month   0.0\n",
       "                         geometry\n",
       "1  POLYGON ((-48.91969 -1.9472...\n",
       "2  POLYGON ((-48.39812 -1.3927...\n",
       "3  POLYGON ((-49.94238 -2.7575...\n",
       "4  POLYGON ((-49.55923 -2.9383...\n",
       "5  POLYGON ((-48.66029 -1.6923...\n",
       "6  POLYGON ((-48.52311 -1.3820...\n",
       "7  POLYGON ((-48.28103 -1.3827...\n",
       "8  POLYGON ((-49.23882 -4.0763...\n",
       "9  POLYGON ((-49.26145 -2.0259...\n",
       "10 POLYGON ((-49.50821 -4.3794...\n",
       "11 POLYGON ((-48.91996 -1.9469...\n",
       "12 POLYGON ((-49.01793 -4.3860...\n",
       "13 POLYGON ((-49.25379 -1.8890...\n",
       "14 POLYGON ((-48.36375 -1.4013...\n",
       "15 POLYGON ((-49.37943 -2.5219...\n",
       "16 POLYGON ((-48.469 -1.857771...\n",
       "17 POLYGON ((-49.4955 -4.48834...\n",
       "18 POLYGON ((-49.78717 -2.7594...\n",
       "19 POLYGON ((-48.25093 -1.2863...\n",
       "20 POLYGON ((-48.94729 -3.0860...\n",
       "21 POLYGON ((-49.66027 -3.7443...\n"
      ]
     },
     "metadata": {},
     "output_type": "display_data"
    }
   ],
   "source": [
    "feature_to_geojson_csv <- function(feature) {\n",
    "  datetime <- feature$properties$datetime\n",
    "  geojson_href <- feature$assets$geojson$href\n",
    "  print(geojson_href)\n",
    "\n",
    "  as.data.frame(st_read(geojson_href)) %>%\n",
    "    mutate(date = format(as.Date(datetime), \"%Y-%m-%d\"))\n",
    "}\n",
    "\n",
    "dfs <- lapply(X = stac_search$features, FUN = feature_to_geojson_csv)\n",
    "dfs[1:2]"
   ]
  },
  {
   "cell_type": "markdown",
   "metadata": {},
   "source": [
    "### Rbind lists of dataframes in one big dataframe"
   ]
  },
  {
   "cell_type": "markdown",
   "metadata": {},
   "source": [
    "##### If Health Data:"
   ]
  },
  {
   "cell_type": "code",
   "execution_count": 14,
   "metadata": {
    "vscode": {
     "languageId": "r"
    }
   },
   "outputs": [
    {
     "data": {
      "text/html": [
       "<style>\n",
       ".list-inline {list-style: none; margin:0; padding: 0}\n",
       ".list-inline>li {display: inline-block}\n",
       ".list-inline>li:not(:last-child)::after {content: \"\\00b7\"; padding: 0 .5ex}\n",
       "</style>\n",
       "<ol class=list-inline><li>252</li><li>3</li></ol>\n"
      ],
      "text/latex": [
       "\\begin{enumerate*}\n",
       "\\item 252\n",
       "\\item 3\n",
       "\\end{enumerate*}\n"
      ],
      "text/markdown": [
       "1. 252\n",
       "2. 3\n",
       "\n",
       "\n"
      ],
      "text/plain": [
       "[1] 252   3"
      ]
     },
     "metadata": {},
     "output_type": "display_data"
    },
    {
     "data": {
      "text/html": [
       "<table class=\"dataframe\">\n",
       "<caption>A data.frame: 6 × 3</caption>\n",
       "<thead>\n",
       "\t<tr><th></th><th scope=col>cd_mun</th><th scope=col>date</th><th scope=col>dengue</th></tr>\n",
       "\t<tr><th></th><th scope=col>&lt;chr&gt;</th><th scope=col>&lt;chr&gt;</th><th scope=col>&lt;chr&gt;</th></tr>\n",
       "</thead>\n",
       "<tbody>\n",
       "\t<tr><th scope=row>1</th><td>150010</td><td>2020-12-01</td><td>0.0 </td></tr>\n",
       "\t<tr><th scope=row>2</th><td>150080</td><td>2020-12-01</td><td>0.0 </td></tr>\n",
       "\t<tr><th scope=row>3</th><td>150110</td><td>2020-12-01</td><td>0.0 </td></tr>\n",
       "\t<tr><th scope=row>4</th><td>150120</td><td>2020-12-01</td><td>0.0 </td></tr>\n",
       "\t<tr><th scope=row>5</th><td>150130</td><td>2020-12-01</td><td>0.79</td></tr>\n",
       "\t<tr><th scope=row>6</th><td>150140</td><td>2020-12-01</td><td>1.47</td></tr>\n",
       "</tbody>\n",
       "</table>\n"
      ],
      "text/latex": [
       "A data.frame: 6 × 3\n",
       "\\begin{tabular}{r|lll}\n",
       "  & cd\\_mun & date & dengue\\\\\n",
       "  & <chr> & <chr> & <chr>\\\\\n",
       "\\hline\n",
       "\t1 & 150010 & 2020-12-01 & 0.0 \\\\\n",
       "\t2 & 150080 & 2020-12-01 & 0.0 \\\\\n",
       "\t3 & 150110 & 2020-12-01 & 0.0 \\\\\n",
       "\t4 & 150120 & 2020-12-01 & 0.0 \\\\\n",
       "\t5 & 150130 & 2020-12-01 & 0.79\\\\\n",
       "\t6 & 150140 & 2020-12-01 & 1.47\\\\\n",
       "\\end{tabular}\n"
      ],
      "text/markdown": [
       "\n",
       "A data.frame: 6 × 3\n",
       "\n",
       "| <!--/--> | cd_mun &lt;chr&gt; | date &lt;chr&gt; | dengue &lt;chr&gt; |\n",
       "|---|---|---|---|\n",
       "| 1 | 150010 | 2020-12-01 | 0.0  |\n",
       "| 2 | 150080 | 2020-12-01 | 0.0  |\n",
       "| 3 | 150110 | 2020-12-01 | 0.0  |\n",
       "| 4 | 150120 | 2020-12-01 | 0.0  |\n",
       "| 5 | 150130 | 2020-12-01 | 0.79 |\n",
       "| 6 | 150140 | 2020-12-01 | 1.47 |\n",
       "\n"
      ],
      "text/plain": [
       "  cd_mun date       dengue\n",
       "1 150010 2020-12-01 0.0   \n",
       "2 150080 2020-12-01 0.0   \n",
       "3 150110 2020-12-01 0.0   \n",
       "4 150120 2020-12-01 0.0   \n",
       "5 150130 2020-12-01 0.79  \n",
       "6 150140 2020-12-01 1.47  "
      ]
     },
     "metadata": {},
     "output_type": "display_data"
    }
   ],
   "source": [
    "DATA_TYPE <- \"dengue\"\n",
    "# DATA_TYPE <- \"zika\"\n",
    "\n",
    "\n",
    "final_df <- do.call(rbind, dfs) %>%\n",
    "  dplyr::select(cod, date, value) %>%\n",
    "  rename(cd_mun = cod, !!DATA_TYPE := value)\n",
    "\n",
    "dim(final_df)\n",
    "head(final_df)"
   ]
  },
  {
   "cell_type": "markdown",
   "metadata": {},
   "source": [
    "##### If Climate Data:"
   ]
  },
  {
   "cell_type": "code",
   "execution_count": 13,
   "metadata": {
    "vscode": {
     "languageId": "r"
    }
   },
   "outputs": [
    {
     "ename": "ERROR",
     "evalue": "\u001b[1m\u001b[33mError\u001b[39m in `dplyr::select()`:\u001b[22m\n\u001b[33m!\u001b[39m Can't select columns that don't exist.\n\u001b[31m✖\u001b[39m Column `CD_MUN` doesn't exist.\n",
     "output_type": "error",
     "traceback": [
      "\u001b[1m\u001b[33mError\u001b[39m in `dplyr::select()`:\u001b[22m\n\u001b[33m!\u001b[39m Can't select columns that don't exist.\n\u001b[31m✖\u001b[39m Column `CD_MUN` doesn't exist.\nTraceback:\n",
      "1. do.call(rbind, dfs) %>% dplyr::select(CD_MUN, NM_MUN, value, \n .     date) %>% rename(cd_mun = CD_MUN, nm_mun = NM_MUN, `:=`(!!DATA_TYPE, \n .     value))",
      "2. rename(., cd_mun = CD_MUN, nm_mun = NM_MUN, `:=`(!!DATA_TYPE, \n .     value))",
      "3. dplyr::select(., CD_MUN, NM_MUN, value, date)",
      "4. select.data.frame(., CD_MUN, NM_MUN, value, date)",
      "5. tidyselect::eval_select(expr(c(...)), data = .data, error_call = error_call)",
      "6. eval_select_impl(data, names(data), as_quosure(expr, env), include = include, \n .     exclude = exclude, strict = strict, name_spec = name_spec, \n .     allow_rename = allow_rename, allow_empty = allow_empty, allow_predicates = allow_predicates, \n .     error_call = error_call, )",
      "7. with_subscript_errors(out <- vars_select_eval(vars, expr, strict = strict, \n .     data = x, name_spec = name_spec, uniquely_named = uniquely_named, \n .     allow_rename = allow_rename, allow_empty = allow_empty, allow_predicates = allow_predicates, \n .     type = type, error_call = error_call), type = type)",
      "8. withCallingHandlers(expr, vctrs_error_subscript = function(cnd) {\n .     cnd$subscript_action <- subscript_action(type)\n .     cnd$subscript_elt <- \"column\"\n .     cnd_signal(cnd)\n . })",
      "9. vars_select_eval(vars, expr, strict = strict, data = x, name_spec = name_spec, \n .     uniquely_named = uniquely_named, allow_rename = allow_rename, \n .     allow_empty = allow_empty, allow_predicates = allow_predicates, \n .     type = type, error_call = error_call)",
      "10. walk_data_tree(expr, data_mask, context_mask)",
      "11. eval_c(expr, data_mask, context_mask)",
      "12. reduce_sels(node, data_mask, context_mask, init = init)",
      "13. walk_data_tree(new, data_mask, context_mask)",
      "14. as_indices_sel_impl(out, vars = vars, strict = strict, data = data, \n  .     allow_predicates = allow_predicates, call = error_call, arg = as_label(expr))",
      "15. as_indices_impl(x, vars, call = call, arg = arg, strict = strict)",
      "16. chr_as_locations(x, vars, call = call, arg = arg)",
      "17. vctrs::vec_as_location(x, n = length(vars), names = vars, call = call, \n  .     arg = arg)",
      "18. (function () \n  . stop_subscript_oob(i = i, subscript_type = subscript_type, names = names, \n  .     subscript_action = subscript_action, subscript_arg = subscript_arg, \n  .     call = call))()",
      "19. stop_subscript_oob(i = i, subscript_type = subscript_type, names = names, \n  .     subscript_action = subscript_action, subscript_arg = subscript_arg, \n  .     call = call)",
      "20. stop_subscript(class = \"vctrs_error_subscript_oob\", i = i, subscript_type = subscript_type, \n  .     ..., call = call)",
      "21. abort(class = c(class, \"vctrs_error_subscript\"), i = i, ..., \n  .     call = call)",
      "22. signal_abort(cnd, .file)",
      "23. signalCondition(cnd)",
      "24. (function (cnd) \n  . {\n  .     cnd$subscript_action <- subscript_action(type)\n  .     cnd$subscript_elt <- \"column\"\n  .     cnd_signal(cnd)\n  . })(structure(list(message = \"\", trace = structure(list(call = list(\n  .     IRkernel::main(), kernel$run(), handle_shell(), executor$execute(msg), \n  .     tryCatch(evaluate(request$content$code, envir = .GlobalEnv, \n  .         output_handler = oh, stop_on_error = 1L), interrupt = function(cond) {\n  .         log_debug(\"Interrupt during execution\")\n  .         interrupted <<- TRUE\n  .     }, error = .self$handle_error), tryCatchList(expr, classes, \n  .         parentenv, handlers), tryCatchOne(tryCatchList(expr, \n  .         names[-nh], parentenv, handlers[-nh]), names[nh], parentenv, \n  .         handlers[[nh]]), doTryCatch(return(expr), name, parentenv, \n  .         handler), tryCatchList(expr, names[-nh], parentenv, handlers[-nh]), \n  .     tryCatchOne(expr, names, parentenv, handlers[[1L]]), doTryCatch(return(expr), \n  .         name, parentenv, handler), evaluate(request$content$code, \n  .         envir = .GlobalEnv, output_handler = oh, stop_on_error = 1L), \n  .     evaluate_call(expr, parsed$src[[i]], envir = envir, enclos = enclos, \n  .         debug = debug, last = i == length(out), use_try = stop_on_error != \n  .             2L, keep_warning = keep_warning, keep_message = keep_message, \n  .         log_echo = log_echo, log_warning = log_warning, output_handler = output_handler, \n  .         include_timing = include_timing), timing_fn(handle(ev <- withCallingHandlers(withVisible(eval_with_user_handlers(expr, \n  .         envir, enclos, user_handlers)), warning = wHandler, error = eHandler, \n  .         message = mHandler))), handle(ev <- withCallingHandlers(withVisible(eval_with_user_handlers(expr, \n  .         envir, enclos, user_handlers)), warning = wHandler, error = eHandler, \n  .         message = mHandler)), try(f, silent = TRUE), tryCatch(expr, \n  .         error = function(e) {\n  .             call <- conditionCall(e)\n  .             if (!is.null(call)) {\n  .                 if (identical(call[[1L]], quote(doTryCatch))) \n  .                   call <- sys.call(-4L)\n  .                 dcall <- deparse(call, nlines = 1L)\n  .                 prefix <- paste(\"Error in\", dcall, \": \")\n  .                 LONG <- 75L\n  .                 sm <- strsplit(conditionMessage(e), \"\\n\")[[1L]]\n  .                 w <- 14L + nchar(dcall, type = \"w\") + nchar(sm[1L], \n  .                   type = \"w\")\n  .                 if (is.na(w)) \n  .                   w <- 14L + nchar(dcall, type = \"b\") + nchar(sm[1L], \n  .                     type = \"b\")\n  .                 if (w > LONG) \n  .                   prefix <- paste0(prefix, \"\\n  \")\n  .             }\n  .             else prefix <- \"Error : \"\n  .             msg <- paste0(prefix, conditionMessage(e), \"\\n\")\n  .             .Internal(seterrmessage(msg[1L]))\n  .             if (!silent && isTRUE(getOption(\"show.error.messages\"))) {\n  .                 cat(msg, file = outFile)\n  .                 .Internal(printDeferredWarnings())\n  .             }\n  .             invisible(structure(msg, class = \"try-error\", condition = e))\n  .         }), tryCatchList(expr, classes, parentenv, handlers), \n  .     tryCatchOne(expr, names, parentenv, handlers[[1L]]), doTryCatch(return(expr), \n  .         name, parentenv, handler), withCallingHandlers(withVisible(eval_with_user_handlers(expr, \n  .         envir, enclos, user_handlers)), warning = wHandler, error = eHandler, \n  .         message = mHandler), withVisible(eval_with_user_handlers(expr, \n  .         envir, enclos, user_handlers)), eval_with_user_handlers(expr, \n  .         envir, enclos, user_handlers), eval(expr, envir, enclos), \n  .     eval(expr, envir, enclos), do.call(rbind, dfs) %>% dplyr::select(CD_MUN, \n  .         NM_MUN, value, date) %>% rename(cd_mun = CD_MUN, nm_mun = NM_MUN, \n  .         `:=`(!!DATA_TYPE, value)), rename(., cd_mun = CD_MUN, \n  .         nm_mun = NM_MUN, `:=`(!!DATA_TYPE, value)), dplyr::select(., \n  .         CD_MUN, NM_MUN, value, date), select.data.frame(., CD_MUN, \n  .         NM_MUN, value, date), tidyselect::eval_select(expr(c(...)), \n  .         data = .data, error_call = error_call), eval_select_impl(data, \n  .         names(data), as_quosure(expr, env), include = include, \n  .         exclude = exclude, strict = strict, name_spec = name_spec, \n  .         allow_rename = allow_rename, allow_empty = allow_empty, \n  .         allow_predicates = allow_predicates, error_call = error_call, \n  .         ), with_subscript_errors(out <- vars_select_eval(vars, \n  .         expr, strict = strict, data = x, name_spec = name_spec, \n  .         uniquely_named = uniquely_named, allow_rename = allow_rename, \n  .         allow_empty = allow_empty, allow_predicates = allow_predicates, \n  .         type = type, error_call = error_call), type = type), \n  .     withCallingHandlers(expr, vctrs_error_subscript = function(cnd) {\n  .         cnd$subscript_action <- subscript_action(type)\n  .         cnd$subscript_elt <- \"column\"\n  .         cnd_signal(cnd)\n  .     }), vars_select_eval(vars, expr, strict = strict, data = x, \n  .         name_spec = name_spec, uniquely_named = uniquely_named, \n  .         allow_rename = allow_rename, allow_empty = allow_empty, \n  .         allow_predicates = allow_predicates, type = type, error_call = error_call), \n  .     walk_data_tree(expr, data_mask, context_mask), eval_c(expr, \n  .         data_mask, context_mask), reduce_sels(node, data_mask, \n  .         context_mask, init = init), walk_data_tree(new, data_mask, \n  .         context_mask), as_indices_sel_impl(out, vars = vars, \n  .         strict = strict, data = data, allow_predicates = allow_predicates, \n  .         call = error_call, arg = as_label(expr)), as_indices_impl(x, \n  .         vars, call = call, arg = arg, strict = strict), chr_as_locations(x, \n  .         vars, call = call, arg = arg), vctrs::vec_as_location(x, \n  .         n = length(vars), names = vars, call = call, arg = arg), \n  .     `<fn>`(), stop_subscript_oob(i = i, subscript_type = subscript_type, \n  .         names = names, subscript_action = subscript_action, subscript_arg = subscript_arg, \n  .         call = call), stop_subscript(class = \"vctrs_error_subscript_oob\", \n  .         i = i, subscript_type = subscript_type, ..., call = call), \n  .     abort(class = c(class, \"vctrs_error_subscript\"), i = i, ..., \n  .         call = call)), parent = c(0L, 1L, 2L, 3L, 4L, 5L, 6L, \n  . 7L, 6L, 9L, 10L, 4L, 12L, 13L, 13L, 15L, 16L, 17L, 18L, 19L, \n  . 13L, 13L, 13L, 23L, 24L, 0L, 0L, 0L, 0L, 29L, 30L, 31L, 32L, \n  . 31L, 34L, 35L, 36L, 37L, 38L, 39L, 40L, 41L, 0L, 43L, 44L, 45L\n  . ), visible = c(TRUE, TRUE, TRUE, TRUE, TRUE, TRUE, TRUE, TRUE, \n  . TRUE, TRUE, TRUE, TRUE, TRUE, TRUE, TRUE, TRUE, TRUE, TRUE, TRUE, \n  . TRUE, TRUE, TRUE, TRUE, TRUE, TRUE, TRUE, TRUE, TRUE, TRUE, FALSE, \n  . FALSE, FALSE, FALSE, FALSE, FALSE, FALSE, FALSE, FALSE, FALSE, \n  . FALSE, FALSE, FALSE, FALSE, FALSE, FALSE, FALSE), namespace = c(\"IRkernel\", \n  . NA, \"IRkernel\", NA, \"base\", \"base\", \"base\", \"base\", \"base\", \"base\", \n  . \"base\", \"evaluate\", \"evaluate\", \"evaluate\", \"evaluate\", \"base\", \n  . \"base\", \"base\", \"base\", \"base\", \"base\", \"base\", \"evaluate\", \"base\", \n  . \"base\", NA, \"dplyr\", \"dplyr\", \"dplyr\", \"tidyselect\", \"tidyselect\", \n  . \"tidyselect\", \"base\", \"tidyselect\", \"tidyselect\", \"tidyselect\", \n  . \"tidyselect\", \"tidyselect\", \"tidyselect\", \"tidyselect\", \"tidyselect\", \n  . \"vctrs\", \"vctrs\", \"vctrs\", \"vctrs\", \"rlang\"), scope = c(\"::\", \n  . NA, \"local\", NA, \"::\", \"local\", \"local\", \"local\", \"local\", \"local\", \n  . \"local\", \"::\", \":::\", \"local\", \"local\", \"::\", \"::\", \"local\", \n  . \"local\", \"local\", \"::\", \"::\", \":::\", \"::\", \"::\", NA, \"::\", \"::\", \n  . \":::\", \"::\", \":::\", \":::\", \"::\", \":::\", \":::\", \":::\", \":::\", \n  . \":::\", \":::\", \":::\", \":::\", \"::\", \"local\", \":::\", \":::\", \"::\"\n  . ), error_frame = c(FALSE, FALSE, FALSE, FALSE, FALSE, FALSE, \n  . FALSE, FALSE, FALSE, FALSE, FALSE, FALSE, FALSE, FALSE, FALSE, \n  . FALSE, FALSE, FALSE, FALSE, FALSE, FALSE, FALSE, FALSE, FALSE, \n  . FALSE, FALSE, FALSE, FALSE, TRUE, FALSE, FALSE, FALSE, FALSE, \n  . FALSE, FALSE, FALSE, FALSE, FALSE, FALSE, FALSE, FALSE, FALSE, \n  . FALSE, FALSE, FALSE, FALSE)), row.names = c(NA, -46L), version = 2L, class = c(\"rlang_trace\", \n  . \"rlib_trace\", \"tbl\", \"data.frame\")), parent = NULL, i = \"CD_MUN\", \n  .     subscript_type = \"character\", names = c(\"cod\", \"date\", \"name\", \n  .     \"agg\", \"agg_time\", \"value\", \"geometry\"), subscript_action = NULL, \n  .     subscript_arg = \"CD_MUN\", rlang = list(inherit = TRUE), call = dplyr::select(., \n  .         CD_MUN, NM_MUN, value, date)), class = c(\"vctrs_error_subscript_oob\", \n  . \"vctrs_error_subscript\", \"rlang_error\", \"error\", \"condition\")))",
      "25. cnd_signal(cnd)",
      "26. signal_abort(cnd)"
     ]
    }
   ],
   "source": [
    "DATA_TYPE <- \"precipitation\"\n",
    "# DATA_TYPE <- \"temperature\"\n",
    "\n",
    "\n",
    "final_df <- do.call(rbind, dfs) %>%\n",
    "  dplyr::select(CD_MUN, NM_MUN, value, date) %>%\n",
    "  rename(cd_mun = CD_MUN, nm_mun = NM_MUN, !!DATA_TYPE := value)\n",
    "\n",
    "dim(final_df)\n",
    "head(final_df)"
   ]
  },
  {
   "cell_type": "markdown",
   "metadata": {},
   "source": [
    "### Save data"
   ]
  },
  {
   "cell_type": "code",
   "execution_count": 12,
   "metadata": {
    "vscode": {
     "languageId": "r"
    }
   },
   "outputs": [],
   "source": [
    "write.csv(final_df, FINAL_CSV_NAME, row.names = FALSE)"
   ]
  },
  {
   "cell_type": "code",
   "execution_count": null,
   "metadata": {
    "vscode": {
     "languageId": "r"
    }
   },
   "outputs": [],
   "source": []
  }
 ],
 "metadata": {
  "kernelspec": {
   "display_name": "R",
   "language": "R",
   "name": "ir"
  },
  "language_info": {
   "codemirror_mode": "r",
   "file_extension": ".r",
   "mimetype": "text/x-r-source",
   "name": "R",
   "pygments_lexer": "r",
   "version": "4.1.2"
  }
 },
 "nbformat": 4,
 "nbformat_minor": 2
}
